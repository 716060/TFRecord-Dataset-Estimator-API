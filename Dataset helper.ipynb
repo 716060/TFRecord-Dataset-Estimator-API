{
 "cells": [
  {
   "cell_type": "code",
   "execution_count": 1,
   "metadata": {},
   "outputs": [
    {
     "name": "stdout",
     "output_type": "stream",
     "text": [
      "Populating the interactive namespace from numpy and matplotlib\n"
     ]
    },
    {
     "name": "stderr",
     "output_type": "stream",
     "text": [
      "/opt/conda/lib/python3.6/importlib/_bootstrap.py:219: RuntimeWarning: compiletime version 3.5 of module 'tensorflow.python.framework.fast_tensor_util' does not match runtime version 3.6\n",
      "  return f(*args, **kwds)\n"
     ]
    }
   ],
   "source": [
    "from matplotlib import pyplot as plt\n",
    "import matplotlib.image as mpimg\n",
    "%pylab inline\n",
    "import pandas as pd\n",
    "import numpy as np\n",
    "import tensorflow as tf"
   ]
  },
  {
   "cell_type": "code",
   "execution_count": 2,
   "metadata": {},
   "outputs": [
    {
     "name": "stdout",
     "output_type": "stream",
     "text": [
      "\n",
      "scalar\n",
      "type:int64\n",
      "shape: ()\n",
      "example0\n",
      "1\n",
      "example1\n",
      "2\n",
      "example2\n",
      "3\n",
      "\n",
      "vector\n",
      "type:float32\n",
      "shape: (3,)\n",
      "example0\n",
      "[ 0.1  0.1  0.1]\n",
      "example1\n",
      "[ 0.2  0.2  0.2]\n",
      "example2\n",
      "[ 0.3  0.3  0.3]\n",
      "\n",
      "matrix\n",
      "type:float32\n",
      "shape: (2, 3)\n",
      "example0\n",
      "[[ 0.1  0.1  0.1]\n",
      " [ 0.1  0.1  0.1]]\n",
      "example1\n",
      "[[ 0.2  0.2  0.2]\n",
      " [ 0.2  0.2  0.2]]\n",
      "example2\n",
      "[[ 0.3  0.3  0.3]\n",
      " [ 0.3  0.3  0.3]]\n"
     ]
    }
   ],
   "source": [
    "np.set_printoptions(precision=3)\n",
    "# display function\n",
    "def display(alist, show = True):\n",
    "    print('type:%s\\nshape: %s' %(alist[0].dtype,alist[0].shape))\n",
    "    if show:\n",
    "        for i in range(3):\n",
    "            print('example%s\\n%s' %(i,alist[i]))\n",
    "\n",
    "scalars = np.array([1,2,3],dtype=int64)\n",
    "print('\\nscalar')\n",
    "display(scalars)\n",
    "\n",
    "vectors = np.array([[0.1,0.1,0.1],\n",
    "                   [0.2,0.2,0.2],\n",
    "                   [0.3,0.3,0.3]],dtype=float32)\n",
    "print('\\nvector')\n",
    "display(vectors)\n",
    "\n",
    "matrices = np.array([np.array((vectors[0],vectors[0])),\n",
    "                    np.array((vectors[1],vectors[1])),\n",
    "                    np.array((vectors[2],vectors[2]))],dtype=float32)\n",
    "print('\\nmatrix')\n",
    "display(matrices)"
   ]
  },
  {
   "cell_type": "code",
   "execution_count": 3,
   "metadata": {},
   "outputs": [],
   "source": [
    "# input data is a list of dictionaries \n",
    "# the keys of dics are feature names, the values are feature values\n",
    "examples = [{'scalar':scalars[0],\n",
    "              'vector':vectors[0],\n",
    "              'matrix':matrices[0]},\n",
    "              {'scalar':scalars[1],\n",
    "              'vector':vectors[1],\n",
    "              'matrix':matrices[1]},\n",
    "              {'scalar':scalars[2],\n",
    "              'vector':vectors[2],\n",
    "              'matrix':matrices[2]}]"
   ]
  },
  {
   "cell_type": "code",
   "execution_count": 4,
   "metadata": {},
   "outputs": [],
   "source": [
    "from dataset_helper import TFrecorder"
   ]
  },
  {
   "cell_type": "code",
   "execution_count": 5,
   "metadata": {},
   "outputs": [],
   "source": [
    "tfr = TFrecorder()"
   ]
  },
  {
   "cell_type": "code",
   "execution_count": 6,
   "metadata": {},
   "outputs": [
    {
     "name": "stdout",
     "output_type": "stream",
     "text": [
      "number of features in each example: 3\n",
      "3 examples has been written to testX.tfrecord\n",
      "saved data_info to testX.csv\n",
      "           name     type   shape isbyte length_type default\n",
      "0        scalar    int64      ()  False       fixed     NaN\n",
      "1        vector  float32    (3,)  False       fixed     NaN\n",
      "2        matrix  float32  (2, 3)   True       fixed     NaN\n",
      "3  matrix_shape    int64    (2,)  False       fixed     NaN\n"
     ]
    }
   ],
   "source": [
    "tfr.writer('testX', examples)"
   ]
  },
  {
   "cell_type": "code",
   "execution_count": 7,
   "metadata": {},
   "outputs": [
    {
     "name": "stdout",
     "output_type": "stream",
     "text": [
      "           name     type   shape isbyte length_type default\n",
      "0        scalar    int64      ()  False       fixed     NaN\n",
      "1        vector  float32    (3,)  False       fixed     NaN\n",
      "2        matrix  float32  (2, 3)   True       fixed     NaN\n",
      "3  matrix_shape    int64    (2,)  False       fixed     NaN\n"
     ]
    }
   ],
   "source": [
    "# if run .writer(), the tfr can remember data_info and file path\n",
    "dataset=tfr.get_dataset(paths=None, data_info=None, shuffle = False, batch_size = 5, epoch = 5, padding = None)"
   ]
  },
  {
   "cell_type": "code",
   "execution_count": 8,
   "metadata": {},
   "outputs": [
    {
     "name": "stdout",
     "output_type": "stream",
     "text": [
      "read dataframe from testX.csv\n",
      "           name     type   shape  isbyte length_type  default\n",
      "0        scalar    int64      []   False       fixed      NaN\n",
      "1        vector  float32     [3]   False       fixed      NaN\n",
      "2        matrix  float32  [2, 3]    True       fixed      NaN\n",
      "3  matrix_shape    int64     [2]   False       fixed      NaN\n"
     ]
    }
   ],
   "source": [
    "# inputing paths of tfrecord and csv files also work\n",
    "dataset=tfr.get_dataset(paths='testX.tfrecord', data_info='testX.csv', shuffle = False, batch_size = 5, epoch = 5, padding = None)"
   ]
  },
  {
   "cell_type": "code",
   "execution_count": 9,
   "metadata": {},
   "outputs": [],
   "source": [
    "iterator = dataset.make_one_shot_iterator()\n",
    "next_element = iterator.get_next()\n",
    "sess = tf.InteractiveSession()"
   ]
  },
  {
   "cell_type": "code",
   "execution_count": 10,
   "metadata": {},
   "outputs": [
    {
     "name": "stdout",
     "output_type": "stream",
     "text": [
      "==============example 1 ==============\n",
      "scalar: value: [1 2 3] | shape: (3,) | type: int64\n",
      "vector shape: (3, 3) | type: float32\n",
      "matrix shape: (3, 2, 3) | type: float32\n",
      "==============example 2 ==============\n",
      "scalar: value: [1 2 3] | shape: (3,) | type: int64\n",
      "vector shape: (3, 3) | type: float32\n",
      "matrix shape: (3, 2, 3) | type: float32\n",
      "==============example 3 ==============\n",
      "scalar: value: [1 2 3] | shape: (3,) | type: int64\n",
      "vector shape: (3, 3) | type: float32\n",
      "matrix shape: (3, 2, 3) | type: float32\n",
      "==============example 4 ==============\n",
      "scalar: value: [1 2 3] | shape: (3,) | type: int64\n",
      "vector shape: (3, 3) | type: float32\n",
      "matrix shape: (3, 2, 3) | type: float32\n",
      "==============example 5 ==============\n",
      "scalar: value: [1 2 3] | shape: (3,) | type: int64\n",
      "vector shape: (3, 3) | type: float32\n",
      "matrix shape: (3, 2, 3) | type: float32\n",
      "End of dataset\n"
     ]
    }
   ],
   "source": [
    "# 获得下一个样本\n",
    "next_element = iterator.get_next()\n",
    "# 创建Session\n",
    "sess = tf.InteractiveSession()\n",
    "\n",
    "# 获取\n",
    "i = 1\n",
    "while True:\n",
    "    # 不断的获得下一个样本\n",
    "    try:\n",
    "        # 获得的值直接属于graph的一部分，所以不再需要用feed_dict来喂\n",
    "        scalar,vector,matrix= sess.run([next_element['scalar'],\n",
    "                                                next_element['vector'],\n",
    "                                                next_element['matrix']])\n",
    "    # 如果遍历完了数据集，则返回错误\n",
    "    except tf.errors.OutOfRangeError:\n",
    "        print(\"End of dataset\")\n",
    "        break\n",
    "    else:\n",
    "        # 显示每个样本中的所有feature的信息，只显示scalar的值\n",
    "        print('==============example %s ==============' %i)\n",
    "        print('scalar: value: %s | shape: %s | type: %s' %(scalar, scalar.shape, scalar.dtype))\n",
    "        print('vector shape: %s | type: %s' %(vector.shape, vector.dtype))\n",
    "        print('matrix shape: %s | type: %s' %(matrix.shape, matrix.dtype))\n",
    "    i+=1"
   ]
  }
 ],
 "metadata": {
  "kernelspec": {
   "display_name": "Python 3",
   "language": "python",
   "name": "python3"
  },
  "language_info": {
   "codemirror_mode": {
    "name": "ipython",
    "version": 3
   },
   "file_extension": ".py",
   "mimetype": "text/x-python",
   "name": "python",
   "nbconvert_exporter": "python",
   "pygments_lexer": "ipython3",
   "version": "3.6.4"
  }
 },
 "nbformat": 4,
 "nbformat_minor": 2
}
