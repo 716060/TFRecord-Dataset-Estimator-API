{
 "cells": [
  {
   "cell_type": "code",
   "execution_count": 1,
   "metadata": {},
   "outputs": [
    {
     "name": "stderr",
     "output_type": "stream",
     "text": [
      "/opt/conda/lib/python3.6/importlib/_bootstrap.py:219: RuntimeWarning: compiletime version 3.5 of module 'tensorflow.python.framework.fast_tensor_util' does not match runtime version 3.6\n",
      "  return f(*args, **kwds)\n"
     ]
    },
    {
     "name": "stdout",
     "output_type": "stream",
     "text": [
      "Populating the interactive namespace from numpy and matplotlib\n"
     ]
    }
   ],
   "source": [
    "import pandas as pd\n",
    "import numpy as np\n",
    "import tensorflow as tf\n",
    "from tfrecorder import TFrecorder\n",
    "from matplotlib import pyplot as plt\n",
    "import matplotlib.image as mpimg\n",
    "%pylab inline"
   ]
  },
  {
   "cell_type": "markdown",
   "metadata": {},
   "source": [
    "# data"
   ]
  },
  {
   "cell_type": "code",
   "execution_count": 2,
   "metadata": {},
   "outputs": [
    {
     "name": "stdout",
     "output_type": "stream",
     "text": [
      "Extracting MNIST-data/train-images-idx3-ubyte.gz\n",
      "Extracting MNIST-data/train-labels-idx1-ubyte.gz\n",
      "Extracting MNIST-data/t10k-images-idx3-ubyte.gz\n",
      "Extracting MNIST-data/t10k-labels-idx1-ubyte.gz\n"
     ]
    }
   ],
   "source": [
    "# Load training and eval data\n",
    "mnist = tf.contrib.learn.datasets.load_dataset(\"mnist\")"
   ]
  },
  {
   "cell_type": "markdown",
   "metadata": {},
   "source": [
    "# how to write"
   ]
  },
  {
   "cell_type": "code",
   "execution_count": 3,
   "metadata": {},
   "outputs": [
    {
     "data": {
      "text/plain": [
       "'\\nNote:\\n1. if the shape of particular feature for every example in your dataset varies, then you must set \"length_type\" as \\'var\\'\\n     example: \\'image\\' feature for the first example is 28x28; but for the second example is 64x64\\n2. \\'image_shape\\' decides the final shape of \\'image\\'\\n     example: the shape of \\'image\\' is (784,) when you write the tfrecord file, but the final shape after parsing is reshaped by the value of \\'image_shape\\'\\n3. by default, \\'_shape\\' info will not be returned after parsing, \\n   if you want to keep \\'_shape\\' info, please use: tfr = TFrecorder(retrieve_shape=True)\\n'"
      ]
     },
     "execution_count": 3,
     "metadata": {},
     "output_type": "execute_result"
    }
   ],
   "source": [
    "# info of data\n",
    "df = pd.DataFrame({'name':['image','label','image_shape'],\n",
    "                  'type':['float32','int64','int64'],\n",
    "                  'shape':[(784,),(),(3,)],\n",
    "                  'isbyte':[True,False,False],\n",
    "                  \"length_type\":['fixed','fixed','fixed'],\n",
    "                  \"default\":[np.NaN,np.NaN,np.NaN]})\n",
    "'''\n",
    "Note:\n",
    "1. if the shape of particular feature for every example in your dataset varies, then you must set \"length_type\" as 'var'\n",
    "     example: 'image' feature for the first example is 28x28; but for the second example is 64x64\n",
    "2. 'image_shape' decides the final shape of 'image'\n",
    "     example: the shape of 'image' is (784,) when you write the tfrecord file, but the final shape after parsing is reshaped by the value of 'image_shape'\n",
    "3. by default, '_shape' info will not be returned after parsing, \n",
    "   if you want to keep '_shape' info, please use: tfr = TFrecorder(retrieve_shape=True)\n",
    "'''"
   ]
  },
  {
   "cell_type": "code",
   "execution_count": 4,
   "metadata": {},
   "outputs": [
    {
     "data": {
      "text/html": [
       "<div>\n",
       "<style scoped>\n",
       "    .dataframe tbody tr th:only-of-type {\n",
       "        vertical-align: middle;\n",
       "    }\n",
       "\n",
       "    .dataframe tbody tr th {\n",
       "        vertical-align: top;\n",
       "    }\n",
       "\n",
       "    .dataframe thead th {\n",
       "        text-align: right;\n",
       "    }\n",
       "</style>\n",
       "<table border=\"1\" class=\"dataframe\">\n",
       "  <thead>\n",
       "    <tr style=\"text-align: right;\">\n",
       "      <th></th>\n",
       "      <th>default</th>\n",
       "      <th>isbyte</th>\n",
       "      <th>length_type</th>\n",
       "      <th>name</th>\n",
       "      <th>shape</th>\n",
       "      <th>type</th>\n",
       "    </tr>\n",
       "  </thead>\n",
       "  <tbody>\n",
       "    <tr>\n",
       "      <th>0</th>\n",
       "      <td>NaN</td>\n",
       "      <td>True</td>\n",
       "      <td>fixed</td>\n",
       "      <td>image</td>\n",
       "      <td>(784,)</td>\n",
       "      <td>float32</td>\n",
       "    </tr>\n",
       "    <tr>\n",
       "      <th>1</th>\n",
       "      <td>NaN</td>\n",
       "      <td>False</td>\n",
       "      <td>fixed</td>\n",
       "      <td>label</td>\n",
       "      <td>()</td>\n",
       "      <td>int64</td>\n",
       "    </tr>\n",
       "    <tr>\n",
       "      <th>2</th>\n",
       "      <td>NaN</td>\n",
       "      <td>False</td>\n",
       "      <td>fixed</td>\n",
       "      <td>image_shape</td>\n",
       "      <td>(3,)</td>\n",
       "      <td>int64</td>\n",
       "    </tr>\n",
       "  </tbody>\n",
       "</table>\n",
       "</div>"
      ],
      "text/plain": [
       "   default  isbyte length_type         name   shape     type\n",
       "0      NaN    True       fixed        image  (784,)  float32\n",
       "1      NaN   False       fixed        label      ()    int64\n",
       "2      NaN   False       fixed  image_shape    (3,)    int64"
      ]
     },
     "execution_count": 4,
     "metadata": {},
     "output_type": "execute_result"
    }
   ],
   "source": [
    "df"
   ]
  },
  {
   "cell_type": "markdown",
   "metadata": {},
   "source": [
    "# write"
   ]
  },
  {
   "cell_type": "code",
   "execution_count": 5,
   "metadata": {},
   "outputs": [],
   "source": [
    "tfr = TFrecorder()"
   ]
  },
  {
   "cell_type": "code",
   "execution_count": 6,
   "metadata": {},
   "outputs": [],
   "source": [
    "rm -rf mnist_tfrecord/train mnist_tfrecord/test"
   ]
  },
  {
   "cell_type": "code",
   "execution_count": 7,
   "metadata": {},
   "outputs": [],
   "source": [
    "mkdir -p mnist_tfrecord/train mnist_tfrecord/test"
   ]
  },
  {
   "cell_type": "code",
   "execution_count": 8,
   "metadata": {
    "scrolled": true
   },
   "outputs": [
    {
     "name": "stdout",
     "output_type": "stream",
     "text": [
      "saved mnist_tfrecord/train/train0_10000.tfrecord\n",
      "saved mnist_tfrecord/train/train10000_20000.tfrecord\n",
      "saved mnist_tfrecord/train/train20000_30000.tfrecord\n",
      "saved mnist_tfrecord/train/train30000_40000.tfrecord\n",
      "saved mnist_tfrecord/train/train40000_50000.tfrecord\n",
      "saved mnist_tfrecord/train/train50000_60000.tfrecord\n"
     ]
    }
   ],
   "source": [
    "dataset = mnist.train\n",
    "path = 'mnist_tfrecord/train/train'\n",
    "num_examples_per_file = 10000\n",
    "num_so_far = 0\n",
    "\n",
    "writer = tf.python_io.TFRecordWriter('%s%s_%s.tfrecord' %(path, num_so_far, num_examples_per_file))\n",
    "print('saved %s%s_%s.tfrecord' %(path, num_so_far, num_examples_per_file))\n",
    "# write mutilple examples\n",
    "for i in np.arange(dataset.num_examples):\n",
    "    features = {}\n",
    "    # shape: 28,28,1\n",
    "    if i%2==0:\n",
    "        images = dataset.images[i].reshape((28,28,1))\n",
    "    # shape: 14,56,1\n",
    "    else:\n",
    "        images = dataset.images[i].reshape((14,56,1))\n",
    "    tfr.feature_writer(df.iloc[0], images, features)\n",
    "    # 写一个样本的标签信息存到字典features中\n",
    "    tfr.feature_writer(df.iloc[1], dataset.labels[i], features)\n",
    "    # ******************\n",
    "    # write shape info *\n",
    "    # ******************\n",
    "    tfr.feature_writer(df.iloc[2], images.shape, features)\n",
    "    \n",
    "    tf_features = tf.train.Features(feature= features)\n",
    "    tf_example = tf.train.Example(features = tf_features)\n",
    "    tf_serialized = tf_example.SerializeToString()\n",
    "    writer.write(tf_serialized)\n",
    "    if i%num_examples_per_file ==0 and i!=0:\n",
    "        writer.close()\n",
    "        num_so_far = i\n",
    "        writer = tf.python_io.TFRecordWriter('%s%s_%s.tfrecord' %(path, num_so_far, i+num_examples_per_file))\n",
    "        print('saved %s%s_%s.tfrecord' %(path, num_so_far, i+num_examples_per_file))\n",
    "writer.close()"
   ]
  },
  {
   "cell_type": "code",
   "execution_count": 9,
   "metadata": {
    "scrolled": true
   },
   "outputs": [
    {
     "name": "stdout",
     "output_type": "stream",
     "text": [
      "saved mnist_tfrecord/test/test0_10000.tfrecord\n"
     ]
    }
   ],
   "source": [
    "# 用该方法写测试集的tfrecord文件\n",
    "dataset = mnist.test\n",
    "path = 'mnist_tfrecord/test/test'\n",
    "# 每个tfrecord文件写多少个样本\n",
    "num_examples_per_file = 10000\n",
    "# 当前写的样本数\n",
    "num_so_far = 0\n",
    "# 要写入的文件\n",
    "writer = tf.python_io.TFRecordWriter('%s%s_%s.tfrecord' %(path, num_so_far, num_examples_per_file))\n",
    "print('saved %s%s_%s.tfrecord' %(path, num_so_far, num_examples_per_file))\n",
    "# 写多个样本\n",
    "for i in np.arange(dataset.num_examples):\n",
    "    # 要写到tfrecord文件中的字典\n",
    "    features = {}\n",
    "    # 写一个样本的图片信息存到字典features中\n",
    "    # shape: 28,28,1\n",
    "    if i%2==0:\n",
    "        images=dataset.images[i].reshape((28,28,1))\n",
    "    # shape: 14,56,1\n",
    "    else:\n",
    "        images=dataset.images[i].reshape((14,56,1))\n",
    "    tfr.feature_writer(df.iloc[0], images, features)\n",
    "    # 写一个样本的标签信息存到字典features中\n",
    "    tfr.feature_writer(df.iloc[1], dataset.labels[i], features)\n",
    "    # ******************\n",
    "    # write shape info *\n",
    "    # ******************\n",
    "    # shape: 28,28,1\n",
    "    tfr.feature_writer(df.iloc[2], images.shape, features)\n",
    "    \n",
    "    tf_features = tf.train.Features(feature= features)\n",
    "    tf_example = tf.train.Example(features = tf_features)\n",
    "    tf_serialized = tf_example.SerializeToString()\n",
    "    writer.write(tf_serialized)\n",
    "    # 每写了num_examples_per_file个样本就令生成一个tfrecord文件\n",
    "    if i%num_examples_per_file ==0 and i!=0:\n",
    "        writer.close()\n",
    "        num_so_far = i\n",
    "        writer = tf.python_io.TFRecordWriter('%s%s_%s.tfrecord' %(path, num_so_far, i+num_examples_per_file))\n",
    "        print('saved %s%s_%s.tfrecord' %(path, num_so_far, i+num_examples_per_file))\n",
    "writer.close()\n",
    "# 把指定如何写成tfrecord文件的信息保存起来\n",
    "data_info_path = 'mnist_tfrecord/data_info.csv'\n",
    "df.to_csv(data_info_path,index=False)"
   ]
  },
  {
   "cell_type": "markdown",
   "metadata": {},
   "source": [
    "# import function"
   ]
  },
  {
   "cell_type": "code",
   "execution_count": 10,
   "metadata": {},
   "outputs": [],
   "source": [
    "tfr = TFrecorder(retrieve_shape=True)\n",
    "def input_fn_maker(path, data_info_path, shuffle=False, batch_size = 1, epoch = 1, padding = None):\n",
    "    def input_fn():\n",
    "        filenames = tfr.get_filenames(path=path, shuffle=shuffle)\n",
    "        dataset=tfr.get_dataset(paths=filenames, data_info=data_info_path, shuffle = shuffle, \n",
    "                            batch_size = batch_size, epoch = epoch, padding =padding)\n",
    "        iterator = dataset.make_one_shot_iterator()\n",
    "        return iterator.get_next()\n",
    "    return input_fn"
   ]
  },
  {
   "cell_type": "code",
   "execution_count": 11,
   "metadata": {},
   "outputs": [
    {
     "name": "stdout",
     "output_type": "stream",
     "text": [
      "read dataframe from mnist_tfrecord/test/test0_10000.tfrecord x 1\n"
     ]
    }
   ],
   "source": [
    "#padding_info = ({'image':[28,28,1],'label':[],'image_shape':[None]})\n",
    "test_input_fn = input_fn_maker('mnist_tfrecord/test/',  'mnist_tfrecord/data_info.csv',batch_size = 4,\n",
    "                               padding = None)\n",
    "train_input_fn = input_fn_maker('mnist_tfrecord/train/',  'mnist_tfrecord/data_info.csv', shuffle=True, batch_size = 512,\n",
    "                               padding = None)\n",
    "train_eval_fn = input_fn_maker('mnist_tfrecord/train/',  'mnist_tfrecord/data_info.csv', batch_size = 512,\n",
    "                               padding = None)\n",
    "test_inputs = test_input_fn()"
   ]
  },
  {
   "cell_type": "code",
   "execution_count": 12,
   "metadata": {
    "scrolled": true
   },
   "outputs": [
    {
     "name": "stdout",
     "output_type": "stream",
     "text": [
      "shape of image: (4, 28, 28, 1)\n",
      "value of label: [7 2 1 0]\n",
      "value of 'image_shape':\n",
      " [[28 28  1]\n",
      " [14 56  1]\n",
      " [28 28  1]\n",
      " [14 56  1]]\n"
     ]
    }
   ],
   "source": [
    "sess =tf.InteractiveSession()\n",
    "exmaple_image, exmaple_label, exmaple_shape_image = sess.run([test_inputs['image'],test_inputs['label'],test_inputs['image_shape']])\n",
    "print(\"shape of image:\",exmaple_image.shape)\n",
    "print(\"value of label:\",exmaple_label)\n",
    "print(\"value of 'image_shape':\\n\",exmaple_shape_image)"
   ]
  },
  {
   "cell_type": "code",
   "execution_count": 13,
   "metadata": {},
   "outputs": [],
   "source": [
    "sess =tf.InteractiveSession()\n",
    "# Because test_inputs contain n_batch examples, and each example has different image shape.\n",
    "# executing tf.reshape once can not do the work.\n",
    "# the first 4 examples in the batch\n",
    "reshaped_image_example1 = tf.reshape(test_inputs['image'][0],test_inputs['image_shape'][0])\n",
    "reshaped_image_example2 = tf.reshape(test_inputs['image'][1],test_inputs['image_shape'][1])\n",
    "reshaped_image_example3 = tf.reshape(test_inputs['image'][2],test_inputs['image_shape'][2])\n",
    "reshaped_image_example4 = tf.reshape(test_inputs['image'][3],test_inputs['image_shape'][3])\n",
    "\n",
    "list_image_examples = [reshaped_image_example1,reshaped_image_example2,reshaped_image_example3,reshaped_image_example4]\n",
    "\n",
    "# following code does the same thing\n",
    "batch_size = 4\n",
    "list_image_examples = [tf.reshape(test_inputs['image'][i],test_inputs['image_shape'][i]) for i in np.arange(batch_size)]"
   ]
  },
  {
   "cell_type": "code",
   "execution_count": 14,
   "metadata": {},
   "outputs": [
    {
     "name": "stdout",
     "output_type": "stream",
     "text": [
      "image shape of example 0: (28, 28, 1)\n",
      "image shape of example 1: (14, 56, 1)\n",
      "image shape of example 2: (28, 28, 1)\n",
      "image shape of example 3: (14, 56, 1)\n"
     ]
    },
    {
     "data": {
      "image/png": "[encoded data removed]",
      "text/plain": [
       "<matplotlib.figure.Figure at 0x7fcfbaaebdd8>"
      ]
     },
     "metadata": {},
     "output_type": "display_data"
    }
   ],
   "source": [
    "example1,example2,example3,example4= sess.run(list_image_examples)\n",
    "for i,e in enumerate([example1,example2,example3,example4]):\n",
    "    plt.subplot(1,4,i+1)\n",
    "    plt.imshow(e.reshape((28,28)),cmap=plt.cm.gray)\n",
    "    print('image shape of example %s:' %i, e.shape)"
   ]
  }
 ],
 "metadata": {
  "kernelspec": {
   "display_name": "Python 3",
   "language": "python",
   "name": "python3"
  },
  "language_info": {
   "codemirror_mode": {
    "name": "ipython",
    "version": 3
   },
   "file_extension": ".py",
   "mimetype": "text/x-python",
   "name": "python",
   "nbconvert_exporter": "python",
   "pygments_lexer": "ipython3",
   "version": "3.6.4"
  }
 },
 "nbformat": 4,
 "nbformat_minor": 2
}
