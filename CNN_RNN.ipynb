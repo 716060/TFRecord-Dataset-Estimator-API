{
 "cells": [
  {
   "cell_type": "code",
   "execution_count": 1,
   "metadata": {},
   "outputs": [
    {
     "name": "stderr",
     "output_type": "stream",
     "text": [
      "/opt/conda/lib/python3.6/importlib/_bootstrap.py:219: RuntimeWarning: compiletime version 3.5 of module 'tensorflow.python.framework.fast_tensor_util' does not match runtime version 3.6\n",
      "  return f(*args, **kwds)\n"
     ]
    },
    {
     "name": "stdout",
     "output_type": "stream",
     "text": [
      "Populating the interactive namespace from numpy and matplotlib\n"
     ]
    }
   ],
   "source": [
    "import pandas as pd\n",
    "import numpy as np\n",
    "import tensorflow as tf\n",
    "from tfrecorder import TFrecorder\n",
    "from matplotlib import pyplot as plt\n",
    "import matplotlib.image as mpimg\n",
    "%pylab inline"
   ]
  },
  {
   "cell_type": "code",
   "execution_count": 2,
   "metadata": {},
   "outputs": [],
   "source": [
    "tfr = TFrecorder()\n",
    "def input_fn_maker(path, data_info_path, shuffle=False, batch_size = 1, epoch = 1, padding = None):\n",
    "    def input_fn():\n",
    "        filenames = tfr.get_filenames(path=path, shuffle=shuffle)\n",
    "        dataset=tfr.get_dataset(paths=filenames, data_info=data_info_path, shuffle = shuffle, \n",
    "                            batch_size = batch_size, epoch = epoch, padding =padding)\n",
    "        iterator = dataset.make_one_shot_iterator()\n",
    "        return iterator.get_next()\n",
    "    return input_fn\n",
    "\n",
    "padding_info = ({'image':[784,],'label':[]})\n",
    "test_input_fn = input_fn_maker('mnist_tfrecord/test/',  'mnist_tfrecord/data_info.csv',batch_size = 512,\n",
    "                               padding = padding_info)\n",
    "train_input_fn = input_fn_maker('mnist_tfrecord/train/',  'mnist_tfrecord/data_info.csv', shuffle=True, batch_size = 128,\n",
    "                               padding = padding_info)\n",
    "train_eval_fn = input_fn_maker('mnist_tfrecord/train/',  'mnist_tfrecord/data_info.csv', batch_size = 512,\n",
    "                               padding = padding_info)"
   ]
  },
  {
   "cell_type": "code",
   "execution_count": 3,
   "metadata": {},
   "outputs": [],
   "source": [
    "def model_fn(features, mode):\n",
    "    # reshape 784维的图片到28x28的平面表达，1为channel数\n",
    "    features['image'] = tf.reshape(features['image'],[-1,28,28,1])\n",
    "    # shape: [None,28,28,1]\n",
    "    conv1 = tf.layers.conv1d(\n",
    "            inputs = tf.reshape(features['image'],[-1,28,28]), \n",
    "            filters = 32, \n",
    "            kernel_size = 5,\n",
    "            padding=\"same\",\n",
    "            activation=tf.nn.relu,\n",
    "            name = 'conv1')\n",
    "    # shape: [None,28,32]\n",
    "    pool1 = tf.layers.max_pooling1d(inputs = conv1, \n",
    "                          pool_size=2,\n",
    "                          strides=2,\n",
    "                          name = 'pool1')\n",
    "    # shape: [None,14,32]\n",
    "    # create RNN cells:\n",
    "    rnn_cells = [tf.nn.rnn_cell.GRUCell(dim,kernel_initializer=tf.orthogonal_initializer) for dim in [128,256]]\n",
    "    # stack cells for multi-layers RNN\n",
    "    multi_rnn_cell = tf.nn.rnn_cell.MultiRNNCell(rnn_cells)\n",
    "    # create RNN layers\n",
    "    outputs, last_state = tf.nn.dynamic_rnn(cell=multi_rnn_cell,\n",
    "                                   inputs=pool1,\n",
    "                                   dtype=tf.float32)\n",
    "    # shape: outputs: [None,14,256]\n",
    "    # shape: last_state: [None,256]\n",
    "    dense1 = tf.layers.dense(inputs=last_state[1], units=1024, activation=tf.nn.relu, name= 'dense1')\n",
    "    # shape: [None,1024]\n",
    "    dropout = tf.layers.dropout(inputs=dense1, rate=0.4, training=mode == tf.estimator.ModeKeys.TRAIN)\n",
    "    logits = tf.layers.dense(inputs=dense1, units=10, name= 'output')\n",
    "    # shape: [None,10]\n",
    "    predictions = {\n",
    "        \"classes\": tf.argmax(input=logits, axis=1),\n",
    "        \"labels\": features['label'],\n",
    "        \"probabilities\": tf.nn.softmax(logits, name=\"softmax_tensor\")\n",
    "        }\n",
    "    if mode == tf.estimator.ModeKeys.PREDICT:\n",
    "        return tf.estimator.EstimatorSpec(mode=mode, predictions=predictions)\n",
    "    loss = tf.losses.sparse_softmax_cross_entropy(labels=features['label'], logits=logits)\n",
    "    \n",
    "    if mode == tf.estimator.ModeKeys.TRAIN:\n",
    "        optimizer = tf.train.AdamOptimizer(learning_rate=1e-3)\n",
    "        train_op = optimizer.minimize(\n",
    "        loss=loss,\n",
    "        global_step=tf.train.get_global_step())\n",
    "        return tf.estimator.EstimatorSpec(mode=mode, loss=loss, train_op=train_op)\n",
    "    eval_metric_ops = {\"accuracy\": tf.metrics.accuracy(labels=features['label'], predictions=predictions[\"classes\"])}\n",
    "    return tf.estimator.EstimatorSpec(mode=mode, loss=loss, eval_metric_ops=eval_metric_ops)"
   ]
  },
  {
   "cell_type": "code",
   "execution_count": 4,
   "metadata": {},
   "outputs": [],
   "source": [
    "rm -rf mnist_model_cnn_rnn/"
   ]
  },
  {
   "cell_type": "code",
   "execution_count": 5,
   "metadata": {},
   "outputs": [
    {
     "name": "stdout",
     "output_type": "stream",
     "text": [
      "INFO:tensorflow:Using default config.\n",
      "INFO:tensorflow:Using config: {'_model_dir': 'mnist_model_cnn_rnn', '_tf_random_seed': None, '_save_summary_steps': 100, '_save_checkpoints_steps': None, '_save_checkpoints_secs': 600, '_session_config': None, '_keep_checkpoint_max': 5, '_keep_checkpoint_every_n_hours': 10000, '_log_step_count_steps': 100, '_service': None, '_cluster_spec': <tensorflow.python.training.server_lib.ClusterSpec object at 0x7f29db388908>, '_task_type': 'worker', '_task_id': 0, '_master': '', '_is_chief': True, '_num_ps_replicas': 0, '_num_worker_replicas': 1}\n"
     ]
    }
   ],
   "source": [
    "mnist_classifier = tf.estimator.Estimator(\n",
    "    model_fn=model_fn, model_dir=\"mnist_model_cnn_rnn\")"
   ]
  },
  {
   "cell_type": "code",
   "execution_count": 6,
   "metadata": {},
   "outputs": [
    {
     "name": "stdout",
     "output_type": "stream",
     "text": [
      "read dataframe from mnist_tfrecord/train/train42000_43000.tfrecord x 55\n",
      "INFO:tensorflow:Create CheckpointSaverHook.\n",
      "INFO:tensorflow:Saving checkpoints for 1 into mnist_model_cnn_rnn/model.ckpt.\n",
      "INFO:tensorflow:loss = 2.29675, step = 1\n",
      "INFO:tensorflow:global_step/sec: 14.6744\n",
      "INFO:tensorflow:loss = 0.43611, step = 101 (6.815 sec)\n",
      "INFO:tensorflow:global_step/sec: 15.0812\n",
      "INFO:tensorflow:loss = 0.112588, step = 201 (6.631 sec)\n",
      "INFO:tensorflow:global_step/sec: 15.2808\n",
      "INFO:tensorflow:loss = 0.118365, step = 301 (6.545 sec)\n",
      "INFO:tensorflow:global_step/sec: 15.0366\n",
      "INFO:tensorflow:loss = 0.311664, step = 401 (6.651 sec)\n",
      "INFO:tensorflow:Saving checkpoints for 430 into mnist_model_cnn_rnn/model.ckpt.\n",
      "INFO:tensorflow:Loss for final step: 0.0546862.\n"
     ]
    },
    {
     "data": {
      "text/plain": [
       "<tensorflow.python.estimator.estimator.Estimator at 0x7f29db388080>"
      ]
     },
     "execution_count": 6,
     "metadata": {},
     "output_type": "execute_result"
    }
   ],
   "source": [
    "mnist_classifier.train(\n",
    "    input_fn=train_input_fn)"
   ]
  },
  {
   "cell_type": "code",
   "execution_count": 7,
   "metadata": {},
   "outputs": [
    {
     "name": "stdout",
     "output_type": "stream",
     "text": [
      "read dataframe from mnist_tfrecord/train/train19000_20000.tfrecord x 55\n",
      "INFO:tensorflow:Starting evaluation at 2018-04-07-14:09:08\n",
      "INFO:tensorflow:Restoring parameters from mnist_model_cnn_rnn/model.ckpt-430\n",
      "INFO:tensorflow:Finished evaluation at 2018-04-07-14:09:15\n",
      "INFO:tensorflow:Saving dict for global step 430: accuracy = 0.955836, global_step = 430, loss = 0.142296\n",
      "train set\n",
      "{'accuracy': 0.95583636, 'loss': 0.14229576, 'global_step': 430}\n"
     ]
    }
   ],
   "source": [
    "eval_results = mnist_classifier.evaluate(input_fn=train_eval_fn)\n",
    "print('train set')\n",
    "print(eval_results)"
   ]
  },
  {
   "cell_type": "code",
   "execution_count": 8,
   "metadata": {},
   "outputs": [
    {
     "name": "stdout",
     "output_type": "stream",
     "text": [
      "read dataframe from mnist_tfrecord/test/test1000_2000.tfrecord x 10\n",
      "INFO:tensorflow:Starting evaluation at 2018-04-07-14:09:16\n",
      "INFO:tensorflow:Restoring parameters from mnist_model_cnn_rnn/model.ckpt-430\n",
      "INFO:tensorflow:Finished evaluation at 2018-04-07-14:09:18\n",
      "INFO:tensorflow:Saving dict for global step 430: accuracy = 0.9576, global_step = 430, loss = 0.130185\n",
      "test set\n",
      "{'accuracy': 0.9576, 'loss': 0.1301849, 'global_step': 430}\n"
     ]
    }
   ],
   "source": [
    "eval_results = mnist_classifier.evaluate(input_fn=test_input_fn)\n",
    "print('test set')\n",
    "print(eval_results)"
   ]
  },
  {
   "cell_type": "code",
   "execution_count": 9,
   "metadata": {
    "scrolled": true
   },
   "outputs": [
    {
     "name": "stdout",
     "output_type": "stream",
     "text": [
      "read dataframe from mnist_tfrecord/train/train9000_10000.tfrecord x 55\n",
      "INFO:tensorflow:Create CheckpointSaverHook.\n",
      "INFO:tensorflow:Restoring parameters from mnist_model_cnn_rnn/model.ckpt-430\n",
      "INFO:tensorflow:Saving checkpoints for 431 into mnist_model_cnn_rnn/model.ckpt.\n",
      "INFO:tensorflow:loss = 0.0895679, step = 431\n",
      "INFO:tensorflow:global_step/sec: 14.29\n",
      "INFO:tensorflow:loss = 0.0751697, step = 531 (6.999 sec)\n",
      "INFO:tensorflow:global_step/sec: 15.0418\n",
      "INFO:tensorflow:loss = 0.118345, step = 631 (6.648 sec)\n",
      "INFO:tensorflow:global_step/sec: 15.1348\n",
      "INFO:tensorflow:loss = 0.0903634, step = 731 (6.607 sec)\n",
      "INFO:tensorflow:global_step/sec: 15.1443\n",
      "INFO:tensorflow:loss = 0.0965481, step = 831 (6.603 sec)\n",
      "INFO:tensorflow:Saving checkpoints for 860 into mnist_model_cnn_rnn/model.ckpt.\n",
      "INFO:tensorflow:Loss for final step: 0.0702864.\n",
      "read dataframe from mnist_tfrecord/train/train23000_24000.tfrecord x 55\n",
      "INFO:tensorflow:Create CheckpointSaverHook.\n",
      "INFO:tensorflow:Restoring parameters from mnist_model_cnn_rnn/model.ckpt-860\n",
      "INFO:tensorflow:Saving checkpoints for 861 into mnist_model_cnn_rnn/model.ckpt.\n",
      "INFO:tensorflow:loss = 0.0728096, step = 861\n",
      "INFO:tensorflow:global_step/sec: 14.4832\n",
      "INFO:tensorflow:loss = 0.0680482, step = 961 (6.906 sec)\n",
      "INFO:tensorflow:global_step/sec: 15.1455\n",
      "INFO:tensorflow:loss = 0.0770377, step = 1061 (6.604 sec)\n",
      "INFO:tensorflow:global_step/sec: 15.1262\n",
      "INFO:tensorflow:loss = 0.0328663, step = 1161 (6.610 sec)\n",
      "INFO:tensorflow:global_step/sec: 14.7312\n",
      "INFO:tensorflow:loss = 0.0230549, step = 1261 (6.793 sec)\n",
      "INFO:tensorflow:Saving checkpoints for 1290 into mnist_model_cnn_rnn/model.ckpt.\n",
      "INFO:tensorflow:Loss for final step: 0.0656608.\n",
      "read dataframe from mnist_tfrecord/train/train15000_16000.tfrecord x 55\n",
      "INFO:tensorflow:Create CheckpointSaverHook.\n",
      "INFO:tensorflow:Restoring parameters from mnist_model_cnn_rnn/model.ckpt-1290\n",
      "INFO:tensorflow:Saving checkpoints for 1291 into mnist_model_cnn_rnn/model.ckpt.\n",
      "INFO:tensorflow:loss = 0.075685, step = 1291\n",
      "INFO:tensorflow:global_step/sec: 14.0756\n",
      "INFO:tensorflow:loss = 0.0849193, step = 1391 (7.106 sec)\n",
      "INFO:tensorflow:global_step/sec: 15.0099\n",
      "INFO:tensorflow:loss = 0.0504562, step = 1491 (6.662 sec)\n",
      "INFO:tensorflow:global_step/sec: 15.0022\n",
      "INFO:tensorflow:loss = 0.106155, step = 1591 (6.666 sec)\n",
      "INFO:tensorflow:global_step/sec: 14.935\n",
      "INFO:tensorflow:loss = 0.129379, step = 1691 (6.696 sec)\n",
      "INFO:tensorflow:Saving checkpoints for 1720 into mnist_model_cnn_rnn/model.ckpt.\n",
      "INFO:tensorflow:Loss for final step: 0.0149506.\n",
      "read dataframe from mnist_tfrecord/train/train1000_2000.tfrecord x 55\n",
      "INFO:tensorflow:Create CheckpointSaverHook.\n",
      "INFO:tensorflow:Restoring parameters from mnist_model_cnn_rnn/model.ckpt-1720\n",
      "INFO:tensorflow:Saving checkpoints for 1721 into mnist_model_cnn_rnn/model.ckpt.\n",
      "INFO:tensorflow:loss = 0.0224688, step = 1721\n",
      "INFO:tensorflow:global_step/sec: 14.3523\n",
      "INFO:tensorflow:loss = 0.0250209, step = 1821 (6.969 sec)\n",
      "INFO:tensorflow:global_step/sec: 14.7635\n",
      "INFO:tensorflow:loss = 0.0408871, step = 1921 (6.774 sec)\n",
      "INFO:tensorflow:global_step/sec: 14.8224\n",
      "INFO:tensorflow:loss = 0.0133698, step = 2021 (6.746 sec)\n",
      "INFO:tensorflow:global_step/sec: 15.1099\n",
      "INFO:tensorflow:loss = 0.0997136, step = 2121 (6.618 sec)\n",
      "INFO:tensorflow:Saving checkpoints for 2150 into mnist_model_cnn_rnn/model.ckpt.\n",
      "INFO:tensorflow:Loss for final step: 0.00990822.\n",
      "read dataframe from mnist_tfrecord/train/train31000_32000.tfrecord x 55\n",
      "INFO:tensorflow:Create CheckpointSaverHook.\n",
      "INFO:tensorflow:Restoring parameters from mnist_model_cnn_rnn/model.ckpt-2150\n",
      "INFO:tensorflow:Saving checkpoints for 2151 into mnist_model_cnn_rnn/model.ckpt.\n",
      "INFO:tensorflow:loss = 0.0684106, step = 2151\n",
      "INFO:tensorflow:global_step/sec: 15.0261\n",
      "INFO:tensorflow:loss = 0.0183572, step = 2251 (6.657 sec)\n",
      "INFO:tensorflow:global_step/sec: 15.283\n",
      "INFO:tensorflow:loss = 0.0162781, step = 2351 (6.543 sec)\n",
      "INFO:tensorflow:global_step/sec: 15.2261\n",
      "INFO:tensorflow:loss = 0.171381, step = 2451 (6.568 sec)\n",
      "INFO:tensorflow:global_step/sec: 15.0138\n",
      "INFO:tensorflow:loss = 0.0226211, step = 2551 (6.660 sec)\n",
      "INFO:tensorflow:Saving checkpoints for 2580 into mnist_model_cnn_rnn/model.ckpt.\n",
      "INFO:tensorflow:Loss for final step: 0.0528678.\n"
     ]
    }
   ],
   "source": [
    "# train 5 more epochs\n",
    "for i in range(5):\n",
    "    mnist_classifier.train(\n",
    "        input_fn=train_input_fn)"
   ]
  },
  {
   "cell_type": "code",
   "execution_count": 10,
   "metadata": {},
   "outputs": [
    {
     "name": "stdout",
     "output_type": "stream",
     "text": [
      "read dataframe from mnist_tfrecord/train/train19000_20000.tfrecord x 55\n",
      "INFO:tensorflow:Starting evaluation at 2018-04-07-14:13:34\n",
      "INFO:tensorflow:Restoring parameters from mnist_model_cnn_rnn/model.ckpt-2580\n",
      "INFO:tensorflow:Finished evaluation at 2018-04-07-14:13:40\n",
      "INFO:tensorflow:Saving dict for global step 2580: accuracy = 0.985855, global_step = 2580, loss = 0.0434273\n",
      "train set\n",
      "{'accuracy': 0.98585457, 'loss': 0.043427251, 'global_step': 2580}\n"
     ]
    }
   ],
   "source": [
    "eval_results = mnist_classifier.evaluate(input_fn=train_eval_fn)\n",
    "print('train set')\n",
    "print(eval_results)"
   ]
  },
  {
   "cell_type": "code",
   "execution_count": 11,
   "metadata": {},
   "outputs": [
    {
     "name": "stdout",
     "output_type": "stream",
     "text": [
      "read dataframe from mnist_tfrecord/test/test1000_2000.tfrecord x 10\n",
      "INFO:tensorflow:Starting evaluation at 2018-04-07-14:13:43\n",
      "INFO:tensorflow:Restoring parameters from mnist_model_cnn_rnn/model.ckpt-2580\n",
      "INFO:tensorflow:Finished evaluation at 2018-04-07-14:13:44\n",
      "INFO:tensorflow:Saving dict for global step 2580: accuracy = 0.9819, global_step = 2580, loss = 0.063138\n",
      "test set\n",
      "{'accuracy': 0.98189998, 'loss': 0.063137986, 'global_step': 2580}\n"
     ]
    }
   ],
   "source": [
    "eval_results = mnist_classifier.evaluate(input_fn=test_input_fn)\n",
    "print('test set')\n",
    "print(eval_results)"
   ]
  }
 ],
 "metadata": {
  "kernelspec": {
   "display_name": "Python 3",
   "language": "python",
   "name": "python3"
  },
  "language_info": {
   "codemirror_mode": {
    "name": "ipython",
    "version": 3
   },
   "file_extension": ".py",
   "mimetype": "text/x-python",
   "name": "python",
   "nbconvert_exporter": "python",
   "pygments_lexer": "ipython3",
   "version": "3.6.4"
  }
 },
 "nbformat": 4,
 "nbformat_minor": 2
}
