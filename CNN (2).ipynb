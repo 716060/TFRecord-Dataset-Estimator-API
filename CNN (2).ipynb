{
 "cells": [
  {
   "cell_type": "code",
   "execution_count": 1,
   "metadata": {},
   "outputs": [
    {
     "name": "stderr",
     "output_type": "stream",
     "text": [
      "/opt/conda/lib/python3.6/site-packages/h5py/__init__.py:36: FutureWarning: Conversion of the second argument of issubdtype from `float` to `np.floating` is deprecated. In future, it will be treated as `np.float64 == np.dtype(float).type`.\n",
      "  from ._conv import register_converters as _register_converters\n"
     ]
    },
    {
     "name": "stdout",
     "output_type": "stream",
     "text": [
      "Populating the interactive namespace from numpy and matplotlib\n"
     ]
    }
   ],
   "source": [
    "import pandas as pd\n",
    "import numpy as np\n",
    "import tensorflow as tf\n",
    "from tfrecorder import TFrecorder\n",
    "from matplotlib import pyplot as plt\n",
    "import matplotlib.image as mpimg\n",
    "%pylab inline"
   ]
  },
  {
   "cell_type": "markdown",
   "metadata": {},
   "source": [
    "# input_fn's"
   ]
  },
  {
   "cell_type": "code",
   "execution_count": 2,
   "metadata": {},
   "outputs": [],
   "source": [
    "tfr = TFrecorder()\n",
    "def input_fn_maker(path, data_info_path, shuffle=False, batch_size = 1, epoch = 1, padding = None):\n",
    "    def input_fn():\n",
    "        filenames = tfr.get_filenames(path=path, shuffle=shuffle)\n",
    "        dataset=tfr.get_dataset(paths=filenames, data_info=data_info_path, shuffle = shuffle, \n",
    "                            batch_size = batch_size, epoch = epoch, padding =padding)\n",
    "        iterator = dataset.make_one_shot_iterator()\n",
    "        return iterator.get_next()\n",
    "    return input_fn\n",
    "\n",
    "padding_info = ({'image':[28,28,1],'label':[]})\n",
    "test_input_fn = input_fn_maker('mnist_tfrecord/test/',  'mnist_tfrecord/data_info.csv',batch_size = 512,\n",
    "                               padding = padding_info)\n",
    "train_input_fn = input_fn_maker('mnist_tfrecord/train/',  'mnist_tfrecord/data_info.csv', shuffle=True, batch_size = 128,\n",
    "                               padding = padding_info)\n",
    "train_eval_fn = input_fn_maker('mnist_tfrecord/train/',  'mnist_tfrecord/data_info.csv', batch_size = 512,\n",
    "                               padding = padding_info)"
   ]
  },
  {
   "cell_type": "markdown",
   "metadata": {},
   "source": [
    "# model"
   ]
  },
  {
   "cell_type": "code",
   "execution_count": 3,
   "metadata": {},
   "outputs": [],
   "source": [
    "def model_fn(features, mode):\n",
    "    # shape: [None,28,28,1]\n",
    "    conv1 = tf.layers.conv2d(\n",
    "        inputs=features['image'],\n",
    "        filters=32,\n",
    "        kernel_size=[5, 5],\n",
    "        padding=\"same\",\n",
    "        activation=tf.nn.relu,\n",
    "        name = 'conv1')\n",
    "    # shape: [None,28,28,32]\n",
    "    pool1 = tf.layers.max_pooling2d(inputs=conv1, pool_size=[2, 2], strides=2, name= 'pool1')\n",
    "    # shape: [None,14,14,32]\n",
    "    conv2 = tf.layers.conv2d(\n",
    "        inputs=pool1,\n",
    "        filters=64,\n",
    "        kernel_size=[5, 5],\n",
    "        padding=\"same\",\n",
    "        activation=tf.nn.relu,\n",
    "        name = 'conv2')\n",
    "    # shape: [None,14,14,64]\n",
    "    pool2 = tf.layers.max_pooling2d(inputs=conv2, pool_size=[2, 2], strides=2, name= 'pool2')\n",
    "    # shape: [None,7,7,64]\n",
    "    pool2_flat = tf.reshape(pool2, [-1, 7 * 7 * 64], name= 'pool2_flat')\n",
    "    # shape: [None,3136]\n",
    "    dense1 = tf.layers.dense(inputs=pool2_flat, units=1024, activation=tf.nn.relu, name= 'dense1')\n",
    "    # shape: [None,1024]\n",
    "    dropout = tf.layers.dropout(inputs=dense1, rate=0.4, training=mode == tf.estimator.ModeKeys.TRAIN)\n",
    "    # shape: [None,1024]\n",
    "    logits = tf.layers.dense(inputs=dropout, units=10, name= 'output')\n",
    "    # shape: [None,10]\n",
    "    predictions = {\n",
    "        \"image\":features['image'],\n",
    "        \"conv1_out\":conv1,\n",
    "        \"pool1_out\":pool1,\n",
    "        \"conv2_out\":conv2,\n",
    "        \"pool2_out\":pool2,\n",
    "        \"pool2_flat_out\":pool2_flat,\n",
    "        \"dense1_out\":dense1,\n",
    "        \"logits\":logits,\n",
    "        \"classes\": tf.argmax(input=logits, axis=1),\n",
    "        \"labels\": features['label'],\n",
    "        \"probabilities\": tf.nn.softmax(logits, name=\"softmax_tensor\")\n",
    "        }\n",
    "    if mode == tf.estimator.ModeKeys.PREDICT:\n",
    "        return tf.estimator.EstimatorSpec(mode=mode, predictions=predictions)\n",
    "    loss = tf.losses.sparse_softmax_cross_entropy(labels=features['label'], logits=logits)\n",
    "    \n",
    "    if mode == tf.estimator.ModeKeys.TRAIN:\n",
    "        optimizer = tf.train.AdamOptimizer(learning_rate=1e-3)\n",
    "        train_op = optimizer.minimize(\n",
    "        loss=loss,\n",
    "        global_step=tf.train.get_global_step())\n",
    "        return tf.estimator.EstimatorSpec(mode=mode, loss=loss, train_op=train_op)\n",
    "    eval_metric_ops = {\"accuracy\": tf.metrics.accuracy(labels=features['label'], predictions=predictions[\"classes\"])}\n",
    "    return tf.estimator.EstimatorSpec(mode=mode, loss=loss, eval_metric_ops=eval_metric_ops)"
   ]
  },
  {
   "cell_type": "markdown",
   "metadata": {},
   "source": [
    "# logging"
   ]
  },
  {
   "cell_type": "code",
   "execution_count": 5,
   "metadata": {},
   "outputs": [],
   "source": [
    "# Set up logging for predictions\n",
    "tensors_to_log = {\"probabilities\": \"softmax_tensor\"}\n",
    "logging_hook = tf.train.LoggingTensorHook(tensors=tensors_to_log, every_n_iter=50)"
   ]
  },
  {
   "cell_type": "markdown",
   "metadata": {},
   "source": [
    "# create estimator"
   ]
  },
  {
   "cell_type": "code",
   "execution_count": 6,
   "metadata": {},
   "outputs": [
    {
     "name": "stdout",
     "output_type": "stream",
     "text": [
      "INFO:tensorflow:Using default config.\n",
      "INFO:tensorflow:Using config: {'_model_dir': 'mnist_model_cnn', '_tf_random_seed': None, '_save_summary_steps': 100, '_save_checkpoints_steps': None, '_save_checkpoints_secs': 600, '_session_config': None, '_keep_checkpoint_max': 5, '_keep_checkpoint_every_n_hours': 10000, '_log_step_count_steps': 100, '_service': None, '_cluster_spec': <tensorflow.python.training.server_lib.ClusterSpec object at 0x7f98d4568128>, '_task_type': 'worker', '_task_id': 0, '_master': '', '_is_chief': True, '_num_ps_replicas': 0, '_num_worker_replicas': 1}\n"
     ]
    }
   ],
   "source": [
    "mnist_classifier = tf.estimator.Estimator(\n",
    "    model_fn=model_fn, model_dir=\"mnist_model_cnn\")"
   ]
  },
  {
   "cell_type": "markdown",
   "metadata": {},
   "source": [
    "# train"
   ]
  },
  {
   "cell_type": "code",
   "execution_count": 7,
   "metadata": {
    "scrolled": true
   },
   "outputs": [
    {
     "name": "stdout",
     "output_type": "stream",
     "text": [
      "read dataframe from mnist_tfrecord/data_info.csv\n",
      "   default  isbyte length_type   name  shape     type\n",
      "0      NaN   False       fixed  image  [784]  float32\n",
      "1      NaN   False       fixed  label     []    int64\n",
      "INFO:tensorflow:Create CheckpointSaverHook.\n",
      "INFO:tensorflow:Saving checkpoints for 1 into mnist_model_cnn/model.ckpt.\n",
      "INFO:tensorflow:probabilities = [[0.10735776 0.09836856 0.09497292 ... 0.09814235 0.10779435 0.09586911]\n",
      " [0.10370693 0.104123   0.10526982 ... 0.10487434 0.10437662 0.0980461 ]\n",
      " [0.10544962 0.09448729 0.08993494 ... 0.09715178 0.11094446 0.10261528]\n",
      " ...\n",
      " [0.11204325 0.10005334 0.0944635  ... 0.08840991 0.1041621  0.11087643]\n",
      " [0.10223292 0.09257616 0.0945285  ... 0.09397934 0.11045069 0.10631656]\n",
      " [0.10971629 0.09682897 0.09939873 ... 0.10562865 0.09889013 0.09752256]]\n",
      "INFO:tensorflow:loss = 2.302704, step = 1\n",
      "INFO:tensorflow:probabilities = [[0.00001527 0.9990571  0.00022797 ... 0.00039954 0.00004374 0.0000326 ]\n",
      " [0.82890403 0.00000193 0.0189919  ... 0.00686293 0.00000558 0.0000527 ]\n",
      " [0.00477687 0.00008514 0.00047539 ... 0.00021382 0.9877521  0.00182611]\n",
      " ...\n",
      " [0.9999143  0.         0.00000188 ... 0.00001813 0.00000003 0.00004059]\n",
      " [0.00000858 0.0000085  0.00023559 ... 0.00000348 0.00000676 0.00000113]\n",
      " [0.00025352 0.00000113 0.00015175 ... 0.00000228 0.00001025 0.00002984]] (1.299 sec)\n",
      "INFO:tensorflow:global_step/sec: 41.123\n",
      "INFO:tensorflow:probabilities = [[0.00322424 0.00000117 0.0000263  ... 0.00000574 0.00020634 0.00001821]\n",
      " [0.9743129  0.00000598 0.00507757 ... 0.00003378 0.00767341 0.00020486]\n",
      " [0.00002212 0.0000002  0.00000225 ... 0.00000014 0.9990314  0.0000073 ]\n",
      " ...\n",
      " [0.00000759 0.00000427 0.00023677 ... 0.00025681 0.99725866 0.00123029]\n",
      " [0.00000012 0.00228468 0.99657404 ... 0.00000004 0.00000047 0.        ]\n",
      " [0.00085305 0.00000874 0.00001021 ... 0.00128718 0.02626055 0.00662864]] (1.134 sec)\n",
      "INFO:tensorflow:loss = 0.041024186, step = 101 (2.432 sec)\n",
      "INFO:tensorflow:probabilities = [[0.00006853 0.0000807  0.00001606 ... 0.89106774 0.00015855 0.10638872]\n",
      " [0.         0.00000028 0.00000001 ... 0.0000199  0.00000036 0.00002672]\n",
      " [0.00274464 0.45236418 0.0153749  ... 0.00000652 0.34950978 0.00008674]\n",
      " ...\n",
      " [0.00002829 0.00000003 0.0000136  ... 0.00000001 0.00049156 0.00000034]\n",
      " [0.00000252 0.         0.00000008 ... 0.00000181 0.00000296 0.00001765]\n",
      " [0.00000283 0.00000006 0.00000019 ... 0.00000021 0.00006036 0.00000015]] (1.151 sec)\n",
      "INFO:tensorflow:global_step/sec: 43.4225\n",
      "INFO:tensorflow:probabilities = [[0.00001449 0.12402217 0.00012419 ... 0.00054158 0.00026442 0.00401589]\n",
      " [0.00003103 0.00046482 0.00003388 ... 0.00002592 0.998596   0.00055055]\n",
      " [0.0000014  0.00000001 0.0000002  ... 0.         0.00001242 0.0000675 ]\n",
      " ...\n",
      " [0.         0.00000004 0.00000043 ... 0.00000004 0.0000001  0.0000004 ]\n",
      " [0.00009012 0.00002214 0.00010873 ... 0.00000701 0.9983442  0.0007123 ]\n",
      " [0.00000471 0.00000755 0.00005654 ... 0.0000063  0.99974626 0.0000244 ]] (1.153 sec)\n",
      "INFO:tensorflow:loss = 0.04656087, step = 201 (2.305 sec)\n",
      "INFO:tensorflow:probabilities = [[0.00000008 0.00000002 0.99983823 ... 0.00015534 0.00000543 0.        ]\n",
      " [0.00000001 0.00033069 0.00012047 ... 0.999522   0.00000274 0.00000267]\n",
      " [0.00000087 0.00000415 0.00000007 ... 0.00000075 0.0018557  0.00017869]\n",
      " ...\n",
      " [0.00000003 0.00002141 0.99997747 ... 0.00000001 0.00000054 0.        ]\n",
      " [0.00000707 0.00000576 0.00014049 ... 0.00000213 0.99959546 0.00019813]\n",
      " [0.00128216 0.00011998 0.9815482  ... 0.00034177 0.01094051 0.00004159]] (1.173 sec)\n",
      "INFO:tensorflow:global_step/sec: 41.4636\n",
      "INFO:tensorflow:probabilities = [[0.99585503 0.00000017 0.00025907 ... 0.000696   0.0024034  0.00059708]\n",
      " [0.00020112 0.00027508 0.99226236 ... 0.00003456 0.00238789 0.00006552]\n",
      " [0.00000003 0.00000141 0.         ... 0.00406452 0.00035982 0.00008719]\n",
      " ...\n",
      " [0.98838377 0.00000008 0.00258161 ... 0.00000009 0.00000136 0.00896217]\n",
      " [0.         0.0000002  0.00000743 ... 0.         0.00000176 0.00000003]\n",
      " [0.00000229 0.00000249 0.00010073 ... 0.0000569  0.00041988 0.99793243]] (1.242 sec)\n",
      "INFO:tensorflow:loss = 0.060572643, step = 301 (2.414 sec)\n",
      "INFO:tensorflow:probabilities = [[0.00000107 0.00008519 0.00000351 ... 0.03191635 0.00000571 0.03916308]\n",
      " [0.00000002 0.0000052  0.00003289 ... 0.99995375 0.00000001 0.00000529]\n",
      " [0.00000409 0.00005401 0.00515059 ... 0.9946003  0.00000246 0.00017902]\n",
      " ...\n",
      " [0.         0.00000069 0.         ... 0.00000019 0.00000003 0.00000181]\n",
      " [0.00000008 0.00012749 0.99986684 ... 0.00000134 0.00000165 0.0000001 ]\n",
      " [0.00004003 0.00157101 0.00007622 ... 0.00454473 0.01594358 0.8575786 ]] (1.176 sec)\n",
      "INFO:tensorflow:global_step/sec: 62.0392\n",
      "INFO:tensorflow:probabilities = [[0.         0.00000043 0.00010289 ... 0.99840504 0.00000014 0.00001618]\n",
      " [0.00046194 0.00027076 0.00917293 ... 0.00015531 0.98564386 0.00078982]\n",
      " [0.00000455 0.00000406 0.0000022  ... 0.00000099 0.00009467 0.00102144]\n",
      " ...\n",
      " [0.00000142 0.00000001 0.0000002  ... 0.00000009 0.00021244 0.00006909]\n",
      " [0.00001589 0.00000562 0.00000146 ... 0.00000072 0.00553937 0.0011618 ]\n",
      " [0.00000275 0.99978155 0.00003472 ... 0.0000102  0.00010043 0.00001187]] (0.432 sec)\n",
      "INFO:tensorflow:loss = 0.083640024, step = 401 (1.609 sec)\n",
      "INFO:tensorflow:Saving checkpoints for 430 into mnist_model_cnn/model.ckpt.\n",
      "INFO:tensorflow:Loss for final step: 0.04699018.\n"
     ]
    },
    {
     "data": {
      "text/plain": [
       "<tensorflow.python.estimator.estimator.Estimator at 0x7f98d4568748>"
      ]
     },
     "execution_count": 7,
     "metadata": {},
     "output_type": "execute_result"
    }
   ],
   "source": [
    "mnist_classifier.train(\n",
    "    input_fn=train_input_fn,\n",
    "    hooks=[logging_hook])"
   ]
  },
  {
   "cell_type": "markdown",
   "metadata": {},
   "source": [
    "# evaluate train set "
   ]
  },
  {
   "cell_type": "code",
   "execution_count": 8,
   "metadata": {},
   "outputs": [
    {
     "name": "stdout",
     "output_type": "stream",
     "text": [
      "read dataframe from mnist_tfrecord/data_info.csv\n",
      "   default  isbyte length_type   name  shape     type\n",
      "0      NaN   False       fixed  image  [784]  float32\n",
      "1      NaN   False       fixed  label     []    int64\n",
      "INFO:tensorflow:Starting evaluation at 2018-02-08-08:11:59\n",
      "INFO:tensorflow:Restoring parameters from mnist_model_cnn/model.ckpt-430\n",
      "INFO:tensorflow:Finished evaluation at 2018-02-08-08:12:05\n",
      "INFO:tensorflow:Saving dict for global step 430: accuracy = 0.9870727, global_step = 430, loss = 0.041405413\n",
      "train set\n",
      "{'accuracy': 0.9870727, 'loss': 0.041405413, 'global_step': 430}\n"
     ]
    }
   ],
   "source": [
    "eval_results = mnist_classifier.evaluate(input_fn=train_eval_fn)\n",
    "print('train set')\n",
    "print(eval_results)"
   ]
  },
  {
   "cell_type": "markdown",
   "metadata": {},
   "source": [
    "# evaluate test set "
   ]
  },
  {
   "cell_type": "code",
   "execution_count": 9,
   "metadata": {},
   "outputs": [
    {
     "name": "stdout",
     "output_type": "stream",
     "text": [
      "read dataframe from mnist_tfrecord/data_info.csv\n",
      "   default  isbyte length_type   name  shape     type\n",
      "0      NaN   False       fixed  image  [784]  float32\n",
      "1      NaN   False       fixed  label     []    int64\n",
      "INFO:tensorflow:Starting evaluation at 2018-02-08-08:12:11\n",
      "INFO:tensorflow:Restoring parameters from mnist_model_cnn/model.ckpt-430\n",
      "INFO:tensorflow:Finished evaluation at 2018-02-08-08:12:13\n",
      "INFO:tensorflow:Saving dict for global step 430: accuracy = 0.9873, global_step = 430, loss = 0.037189495\n",
      "test set\n",
      "{'accuracy': 0.9873, 'loss': 0.037189495, 'global_step': 430}\n"
     ]
    }
   ],
   "source": [
    "eval_results = mnist_classifier.evaluate(input_fn=test_input_fn)\n",
    "print('test set')\n",
    "print(eval_results)"
   ]
  },
  {
   "cell_type": "markdown",
   "metadata": {},
   "source": [
    "# predict"
   ]
  },
  {
   "cell_type": "code",
   "execution_count": 10,
   "metadata": {},
   "outputs": [
    {
     "name": "stdout",
     "output_type": "stream",
     "text": [
      "read dataframe from mnist_tfrecord/data_info.csv\n",
      "   default  isbyte length_type   name  shape     type\n",
      "0      NaN   False       fixed  image  [784]  float32\n",
      "1      NaN   False       fixed  label     []    int64\n",
      "INFO:tensorflow:Restoring parameters from mnist_model_cnn/model.ckpt-430\n"
     ]
    }
   ],
   "source": [
    "predicts =list(mnist_classifier.predict(input_fn=test_input_fn))"
   ]
  },
  {
   "cell_type": "markdown",
   "metadata": {},
   "source": [
    "# print predictions"
   ]
  },
  {
   "cell_type": "code",
   "execution_count": 11,
   "metadata": {},
   "outputs": [
    {
     "data": {
      "text/plain": [
       "dict_keys(['image', 'conv1_out', 'pool1_out', 'conv2_out', 'pool2_out', 'pool2_flat_out', 'dense1_out', 'logits', 'classes', 'labels', 'probabilities'])"
      ]
     },
     "execution_count": 11,
     "metadata": {},
     "output_type": "execute_result"
    }
   ],
   "source": [
    "predicts[0].keys()"
   ]
  },
  {
   "cell_type": "code",
   "execution_count": 12,
   "metadata": {},
   "outputs": [
    {
     "data": {
      "text/plain": [
       "(28, 28, 1)"
      ]
     },
     "execution_count": 12,
     "metadata": {},
     "output_type": "execute_result"
    }
   ],
   "source": [
    "predicts[0]['image'].shape"
   ]
  },
  {
   "cell_type": "code",
   "execution_count": 13,
   "metadata": {},
   "outputs": [
    {
     "data": {
      "text/plain": [
       "<matplotlib.image.AxesImage at 0x7f98746cedd8>"
      ]
     },
     "execution_count": 13,
     "metadata": {},
     "output_type": "execute_result"
    },
    {
     "data": {
      "image/png": "[encoded data removed]",
      "text/plain": [
       "<matplotlib.figure.Figure at 0x7f98d006cf60>"
      ]
     },
     "metadata": {},
     "output_type": "display_data"
    }
   ],
   "source": [
    "plt.imshow(predicts[0]['image'][:,:,0],cmap = plt.cm.gray)"
   ]
  },
  {
   "cell_type": "code",
   "execution_count": 14,
   "metadata": {},
   "outputs": [
    {
     "data": {
      "image/png": "[encoded data removed]",
      "text/plain": [
       "<matplotlib.figure.Figure at 0x7f98746dd240>"
      ]
     },
     "metadata": {},
     "output_type": "display_data"
    }
   ],
   "source": [
    "plt.figure(num=4,figsize=(28,28))\n",
    "for i in range(4):\n",
    "    plt.subplot(1,4,i+1)\n",
    "    plt.imshow(predicts[0]['conv1_out'][:,:,i],cmap = plt.cm.gray)\n",
    "plt.savefig('conv1_out.png')"
   ]
  },
  {
   "cell_type": "code",
   "execution_count": 15,
   "metadata": {},
   "outputs": [
    {
     "data": {
      "image/png": "[encoded data removed]",
      "text/plain": [
       "<matplotlib.figure.Figure at 0x7f980c4bfbe0>"
      ]
     },
     "metadata": {},
     "output_type": "display_data"
    }
   ],
   "source": [
    "plt.figure(num=4,figsize=(14,14))\n",
    "for i in range(4):\n",
    "    plt.subplot(1,4,i+1)\n",
    "    plt.imshow(predicts[0]['pool1_out'][:,:,i],cmap = plt.cm.gray)\n",
    "plt.savefig('pool1_out.png')"
   ]
  },
  {
   "cell_type": "code",
   "execution_count": 16,
   "metadata": {},
   "outputs": [
    {
     "data": {
      "image/png": "[encoded data removed]",
      "text/plain": [
       "<matplotlib.figure.Figure at 0x7f980c386400>"
      ]
     },
     "metadata": {},
     "output_type": "display_data"
    }
   ],
   "source": [
    "plt.figure(num=8,figsize=(14,14))\n",
    "for i in range(8):\n",
    "    plt.subplot(1,8,i+1)\n",
    "    plt.imshow(predicts[0]['conv2_out'][:,:,i],cmap = plt.cm.gray)\n",
    "plt.savefig('conv2_out.png')"
   ]
  },
  {
   "cell_type": "code",
   "execution_count": 17,
   "metadata": {},
   "outputs": [
    {
     "data": {
      "image/png": "[encoded data removed]",
      "text/plain": [
       "<matplotlib.figure.Figure at 0x7f980c37fe48>"
      ]
     },
     "metadata": {},
     "output_type": "display_data"
    }
   ],
   "source": [
    "plt.figure(num=8,figsize=(14,14))\n",
    "for i in range(8):\n",
    "    plt.subplot(1,8,i+1)\n",
    "    plt.imshow(predicts[0]['pool2_out'][:,:,i],cmap = plt.cm.gray)\n",
    "plt.savefig('pool2_out.png')"
   ]
  }
 ],
 "metadata": {
  "kernelspec": {
   "display_name": "Python 3",
   "language": "python",
   "name": "python3"
  },
  "language_info": {
   "codemirror_mode": {
    "name": "ipython",
    "version": 3
   },
   "file_extension": ".py",
   "mimetype": "text/x-python",
   "name": "python",
   "nbconvert_exporter": "python",
   "pygments_lexer": "ipython3",
   "version": "3.6.4"
  }
 },
 "nbformat": 4,
 "nbformat_minor": 2
}
