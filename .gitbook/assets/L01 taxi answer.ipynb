{
 "cells": [
  {
   "cell_type": "markdown",
   "metadata": {},
   "source": [
    "# 数据"
   ]
  },
  {
   "cell_type": "code",
   "execution_count": 1,
   "metadata": {},
   "outputs": [],
   "source": [
    "# 导入 TensorFlow\n",
    "import tensorflow as tf\n",
    "# 即显模式\n",
    "tf.enable_eager_execution()\n",
    "import numpy as np"
   ]
  },
  {
   "cell_type": "code",
   "execution_count": 2,
   "metadata": {},
   "outputs": [],
   "source": [
    "# 生成数据\n",
    "def taxi(x):\n",
    "    init = 14.\n",
    "    unit = 2.5\n",
    "    if x<3:\n",
    "        return tf.constant(init)\n",
    "    else:\n",
    "        return init + unit*(x-3)\n",
    "    \n",
    "n_example = 100\n",
    "X = tf.random_uniform([n_example], 0, 6)\n",
    "Y = np.array([taxi(x) for x in X])\n",
    "\n",
    "# 训练集\n",
    "train_x = X[:80].numpy().reshape(-1,1)\n",
    "train_y = Y[:80].reshape(-1,1)\n",
    "\n",
    "# 测试集\n",
    "test_x = X[80:].numpy().reshape(-1,1)\n",
    "test_y = Y[80:].reshape(-1,1)"
   ]
  },
  {
   "cell_type": "code",
   "execution_count": 4,
   "metadata": {},
   "outputs": [
    {
     "data": {
      "text/plain": [
       "<matplotlib.legend.Legend at 0x7feab839a128>"
      ]
     },
     "execution_count": 4,
     "metadata": {},
     "output_type": "execute_result"
    },
    {
     "data": {
      "image/png": "[encoded data removed]",
      "text/plain": [
       "<Figure size 432x288 with 1 Axes>"
      ]
     },
     "metadata": {},
     "output_type": "display_data"
    }
   ],
   "source": [
    "# 显示训练集\n",
    "import matplotlib.pyplot as plt\n",
    "#plt.plot(train_x, train_y, color='green')\n",
    "plt.scatter(train_x, train_y)\n",
    "plt.legend(['Rule','Data'])"
   ]
  },
  {
   "cell_type": "markdown",
   "metadata": {},
   "source": [
    "# 模型"
   ]
  },
  {
   "cell_type": "code",
   "execution_count": 5,
   "metadata": {},
   "outputs": [],
   "source": [
    "import tensorflow.contrib.eager as tfe\n",
    "# 定义模型\n",
    "# 初始化方法\n",
    "def inits(shape):\n",
    "    return tf.random_uniform(shape,\n",
    "            minval=-np.sqrt(5) * np.sqrt(1.0 / shape[0]),\n",
    "            maxval=np.sqrt(5) * np.sqrt(1.0 / shape[0]))\n",
    "class Model(object):\n",
    "    def __init__(self):\n",
    "        # 参数\n",
    "        # 初始化：随便给 参数 W 和 b 两个值\n",
    "        self.W = tfe.Variable(inits([1,2]))\n",
    "        self.b = tfe.Variable(inits([2]))\n",
    "        self.W1 = tfe.Variable(inits([2,1]))\n",
    "        self.b1 = tfe.Variable(inits([1]))\n",
    "    \n",
    "    def __call__(self, x):\n",
    "        # 正向传递\n",
    "        # 如何利用 参数 W 和 b 运算\n",
    "        y = tf.nn.relu(tf.matmul(x, self.W)  + self.b)\n",
    "        y = tf.matmul(y, self.W1)+ self.b1\n",
    "        return y\n",
    "# 实例模型\n",
    "model = Model()"
   ]
  },
  {
   "cell_type": "markdown",
   "metadata": {},
   "source": [
    "# 训练"
   ]
  },
  {
   "cell_type": "code",
   "execution_count": 6,
   "metadata": {
    "scrolled": true
   },
   "outputs": [
    {
     "name": "stdout",
     "output_type": "stream",
     "text": [
      "Final Test Loss: 7.1031535e-11\n",
      "[[13.999992]\n",
      " [16.500004]\n",
      " [31.499918]\n",
      " [43.999847]]\n"
     ]
    },
    {
     "data": {
      "image/png": "[encoded data removed]",
      "text/plain": [
       "<Figure size 432x288 with 1 Axes>"
      ]
     },
     "metadata": {},
     "output_type": "display_data"
    }
   ],
   "source": [
    "# 误差\n",
    "def loss(prediction, label):\n",
    "    loss = tf.reduce_mean(tf.square(prediction - label))\n",
    "    return loss\n",
    "\n",
    "# 反向传递\n",
    "def train(model, x, y, learning_rate, batch_size, epoch):\n",
    "    # 次数\n",
    "    for e in range(epoch):\n",
    "        # 批量\n",
    "        for b in range(0,len(x),batch_size):\n",
    "            # 梯度\n",
    "            with tf.GradientTape() as tape:\n",
    "                loss_value = loss(model(x[b:b+batch_size]), y[b:b+batch_size])\n",
    "                dW, db, dW1, db1 = tape.gradient(loss_value, [model.W, model.b, model.W1, model.b1])\n",
    "                #print(dW, db)\n",
    "            # 更新参数\n",
    "            model.W.assign_sub(dW * learning_rate)\n",
    "            model.b.assign_sub(db * learning_rate)\n",
    "            model.W1.assign_sub(dW1 * learning_rate)\n",
    "            model.b1.assign_sub(db1 * learning_rate)\n",
    "        # 显示\n",
    "        #print(\"Epoch: %03d | Loss: %.3f | W: %s | b: %s\" %(e, loss(model(x), y), model.W.numpy(), model.b.numpy()))\n",
    "\n",
    "# 训练\n",
    "train(model, train_x, train_y, learning_rate = 0.001, batch_size = 1, epoch = 3000)\n",
    "\n",
    "# 评估\n",
    "test_p = model(test_x)\n",
    "print(\"Final Test Loss: %s\" %loss(test_p, test_y).numpy())\n",
    "\n",
    "# 可视化\n",
    "plt.scatter(test_x,test_y)\n",
    "plt.scatter(test_x,test_p)\n",
    "plt.legend(['real','predicted'])\n",
    "\n",
    "\n",
    "# 预测\n",
    "test_p = model(np.array([1.,4.,10.,15.,]).reshape(-1,1).astype('float32'))\n",
    "print(test_p.numpy())"
   ]
  }
 ],
 "metadata": {
  "kernelspec": {
   "display_name": "Python 3",
   "language": "python",
   "name": "python3"
  },
  "language_info": {
   "codemirror_mode": {
    "name": "ipython",
    "version": 3
   },
   "file_extension": ".py",
   "mimetype": "text/x-python",
   "name": "python",
   "nbconvert_exporter": "python",
   "pygments_lexer": "ipython3",
   "version": "3.6.6"
  }
 },
 "nbformat": 4,
 "nbformat_minor": 1
}
