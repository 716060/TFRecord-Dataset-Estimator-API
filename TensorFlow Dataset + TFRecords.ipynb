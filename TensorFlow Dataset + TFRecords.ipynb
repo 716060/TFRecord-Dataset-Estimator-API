{
 "cells": [
  {
   "cell_type": "code",
   "execution_count": 1,
   "metadata": {},
   "outputs": [
    {
     "name": "stderr",
     "output_type": "stream",
     "text": [
      "/opt/conda/lib/python3.6/importlib/_bootstrap.py:219: RuntimeWarning: compiletime version 3.5 of module 'tensorflow.python.framework.fast_tensor_util' does not match runtime version 3.6\n",
      "  return f(*args, **kwds)\n"
     ]
    },
    {
     "name": "stdout",
     "output_type": "stream",
     "text": [
      "Populating the interactive namespace from numpy and matplotlib\n"
     ]
    }
   ],
   "source": [
    "import tensorflow as tf\n",
    "# for displaying image\n",
    "from matplotlib import pyplot as plt\n",
    "import matplotlib.image as mpimg\n",
    "%pylab inline\n",
    "# for data operation\n",
    "import pandas as pd\n",
    "import numpy as np"
   ]
  },
  {
   "cell_type": "markdown",
   "metadata": {},
   "source": [
    "# How to import data from tfrecord files using dataset API\n",
    "\n",
    "* Author: YJango\n",
    "\n",
    "* Tutorial: https://www.zhihu.com/people/YJango/posts "
   ]
  },
  {
   "cell_type": "markdown",
   "metadata": {},
   "source": [
    "# generate data"
   ]
  },
  {
   "cell_type": "code",
   "execution_count": 71,
   "metadata": {},
   "outputs": [
    {
     "name": "stdout",
     "output_type": "stream",
     "text": [
      "\n",
      "scalar\n",
      "type:int64\n",
      "shape: ()\n",
      "example0\n",
      "1\n",
      "example1\n",
      "2\n",
      "example2\n",
      "3\n",
      "\n",
      "vector\n",
      "type:float32\n",
      "shape: (3,)\n",
      "example0\n",
      "[ 0.1  0.1  0.1]\n",
      "example1\n",
      "[ 0.2  0.2  0.2]\n",
      "example2\n",
      "[ 0.3  0.3  0.3]\n",
      "\n",
      "matrix\n",
      "type:float32\n",
      "shape: (2, 3)\n",
      "example0\n",
      "[[ 0.1  0.1  0.1]\n",
      " [ 0.1  0.1  0.1]]\n",
      "example1\n",
      "[[ 0.2  0.2  0.2]\n",
      " [ 0.2  0.2  0.2]]\n",
      "example2\n",
      "[[ 0.3  0.3  0.3]\n",
      " [ 0.3  0.3  0.3]]\n",
      "\n",
      "3D-tensor\n",
      "type:uint8\n",
      "shape: (806, 806, 3)\n"
     ]
    },
    {
     "data": {
      "text/plain": [
       "<matplotlib.image.AxesImage at 0x7f102b787550>"
      ]
     },
     "execution_count": 71,
     "metadata": {},
     "output_type": "execute_result"
    },
    {
     "data": {
      "image/png": "[encoded data removed]",
      "text/plain": [
       "<matplotlib.figure.Figure at 0x7f101813d390>"
      ]
     },
     "metadata": {},
     "output_type": "display_data"
    }
   ],
   "source": [
    "np.set_printoptions(precision=3)\n",
    "# display function\n",
    "def display(alist, show = True):\n",
    "    print('type:%s\\nshape: %s' %(alist[0].dtype,alist[0].shape))\n",
    "    if show:\n",
    "        for i in range(3):\n",
    "            print('example%s\\n%s' %(i,alist[i]))\n",
    "\n",
    "scalars = np.array([1,2,3],dtype=int64)\n",
    "print('\\nscalar')\n",
    "display(scalars)\n",
    "\n",
    "vectors = np.array([[0.1,0.1,0.1],\n",
    "                   [0.2,0.2,0.2],\n",
    "                   [0.3,0.3,0.3]],dtype=float32)\n",
    "print('\\nvector')\n",
    "display(vectors)\n",
    "\n",
    "matrices = np.array([np.array((vectors[0],vectors[0])),\n",
    "                    np.array((vectors[1],vectors[1])),\n",
    "                    np.array((vectors[2],vectors[2]))],dtype=float32)\n",
    "print('\\nmatrix')\n",
    "display(matrices)\n",
    "\n",
    "# shape of image：(806,806,3)\n",
    "img=mpimg.imread('YJango.jpg') \n",
    "tensors = np.array([img,img,img])\n",
    "# show image\n",
    "print('\\n3D-tensor')\n",
    "display(tensors, show = False)\n",
    "plt.imshow(img)"
   ]
  },
  {
   "cell_type": "markdown",
   "metadata": {},
   "source": [
    "# write tfrecord"
   ]
  },
  {
   "cell_type": "code",
   "execution_count": 3,
   "metadata": {},
   "outputs": [],
   "source": [
    "# open TFRecord file\n",
    "writer = tf.python_io.TFRecordWriter('%s.tfrecord' %'test')\n",
    "\n",
    "# we are going to write 3 examples，each example has 4 features：scalar, vector, matrix, tensor\n",
    "for i in range(3):\n",
    "    # create dictionary \n",
    "    features={}\n",
    "    # write scalar ，type Int64，\"value=[scalars[i]]\" makes it to list\n",
    "    features['scalar'] = tf.train.Feature(int64_list=tf.train.Int64List(value=[scalars[i]]))\n",
    "    \n",
    "    # write vector，type float，it is list，so \"value=vectors[i]\"\n",
    "    features['vector'] = tf.train.Feature(float_list = tf.train.FloatList(value=vectors[i]))\n",
    "    \n",
    "    # write matrix，type float，but its rank =2，tf.train.FloatList only takes list, so we can flatten it to list\n",
    "    features['matrix'] = tf.train.Feature(float_list = tf.train.FloatList(value=matrices[i].reshape(-1)))\n",
    "    # however the shape info will disappear. we can save shape as vector here\n",
    "    features['matrix_shape'] = tf.train.Feature(int64_list = tf.train.Int64List(value=matrices[i].shape))\n",
    "    \n",
    "    # write tensor，type float，rank =3，another way is to convert it to string\n",
    "    features['tensor']         = tf.train.Feature(bytes_list=tf.train.BytesList(value=[tensors[i].tostring()]))\n",
    "    # save shape (806,806,3)\n",
    "    features['tensor_shape'] = tf.train.Feature(int64_list = tf.train.Int64List(value=tensors[i].shape))\n",
    "  \n",
    "    # feed dictionary to tf.train.Features\n",
    "    tf_features = tf.train.Features(feature= features)\n",
    "    # get an example\n",
    "    tf_example = tf.train.Example(features = tf_features)\n",
    "    # serialize the example\n",
    "    tf_serialized = tf_example.SerializeToString()\n",
    "    # write\n",
    "    writer.write(tf_serialized)\n",
    "# close  \n",
    "writer.close()"
   ]
  },
  {
   "cell_type": "markdown",
   "metadata": {},
   "source": [
    "# import tfrecord files to dataset"
   ]
  },
  {
   "cell_type": "code",
   "execution_count": 4,
   "metadata": {},
   "outputs": [],
   "source": [
    "# create dataset from multiple tfrecord files\n",
    "filenames = [\"test.tfrecord\", \"test.tfrecord\"]\n",
    "dataset = tf.data.TFRecordDataset(filenames)"
   ]
  },
  {
   "cell_type": "code",
   "execution_count": 5,
   "metadata": {},
   "outputs": [],
   "source": [
    "# collect all data info\n",
    "data_info = pd.DataFrame({'name':['scalar','vector','matrix','matrix_shape','tensor','tensor_shape'],\n",
    "                         'type':[scalars[0].dtype,vectors[0].dtype,matrices[0].dtype,tf.int64, tensors[0].dtype,tf.int64],\n",
    "                         'shape':[scalars[0].shape,(1,3),matrices[0].shape,(len(matrices[0].shape),),tensors[0].shape,(len(tensors[0].shape),)],\n",
    "                         'isbyte':[False,False,True,False,False,False],\n",
    "                         'length_type':['fixed','fixed','var','fixed','fixed','fixed']},\n",
    "                         columns=['name','type','shape','isbyte','length_type','default'])"
   ]
  },
  {
   "cell_type": "code",
   "execution_count": 6,
   "metadata": {},
   "outputs": [
    {
     "data": {
      "text/html": [
       "<div>\n",
       "<style scoped>\n",
       "    .dataframe tbody tr th:only-of-type {\n",
       "        vertical-align: middle;\n",
       "    }\n",
       "\n",
       "    .dataframe tbody tr th {\n",
       "        vertical-align: top;\n",
       "    }\n",
       "\n",
       "    .dataframe thead th {\n",
       "        text-align: right;\n",
       "    }\n",
       "</style>\n",
       "<table border=\"1\" class=\"dataframe\">\n",
       "  <thead>\n",
       "    <tr style=\"text-align: right;\">\n",
       "      <th></th>\n",
       "      <th>name</th>\n",
       "      <th>type</th>\n",
       "      <th>shape</th>\n",
       "      <th>isbyte</th>\n",
       "      <th>length_type</th>\n",
       "      <th>default</th>\n",
       "    </tr>\n",
       "  </thead>\n",
       "  <tbody>\n",
       "    <tr>\n",
       "      <th>0</th>\n",
       "      <td>scalar</td>\n",
       "      <td>int64</td>\n",
       "      <td>()</td>\n",
       "      <td>False</td>\n",
       "      <td>fixed</td>\n",
       "      <td>NaN</td>\n",
       "    </tr>\n",
       "    <tr>\n",
       "      <th>1</th>\n",
       "      <td>vector</td>\n",
       "      <td>float32</td>\n",
       "      <td>(1, 3)</td>\n",
       "      <td>False</td>\n",
       "      <td>fixed</td>\n",
       "      <td>NaN</td>\n",
       "    </tr>\n",
       "    <tr>\n",
       "      <th>2</th>\n",
       "      <td>matrix</td>\n",
       "      <td>float32</td>\n",
       "      <td>(2, 3)</td>\n",
       "      <td>True</td>\n",
       "      <td>var</td>\n",
       "      <td>NaN</td>\n",
       "    </tr>\n",
       "    <tr>\n",
       "      <th>3</th>\n",
       "      <td>matrix_shape</td>\n",
       "      <td>&lt;dtype: 'int64'&gt;</td>\n",
       "      <td>(2,)</td>\n",
       "      <td>False</td>\n",
       "      <td>fixed</td>\n",
       "      <td>NaN</td>\n",
       "    </tr>\n",
       "    <tr>\n",
       "      <th>4</th>\n",
       "      <td>tensor</td>\n",
       "      <td>uint8</td>\n",
       "      <td>(806, 806, 3)</td>\n",
       "      <td>False</td>\n",
       "      <td>fixed</td>\n",
       "      <td>NaN</td>\n",
       "    </tr>\n",
       "    <tr>\n",
       "      <th>5</th>\n",
       "      <td>tensor_shape</td>\n",
       "      <td>&lt;dtype: 'int64'&gt;</td>\n",
       "      <td>(3,)</td>\n",
       "      <td>False</td>\n",
       "      <td>fixed</td>\n",
       "      <td>NaN</td>\n",
       "    </tr>\n",
       "  </tbody>\n",
       "</table>\n",
       "</div>"
      ],
      "text/plain": [
       "           name              type          shape  isbyte length_type default\n",
       "0        scalar             int64             ()   False       fixed     NaN\n",
       "1        vector           float32         (1, 3)   False       fixed     NaN\n",
       "2        matrix           float32         (2, 3)    True         var     NaN\n",
       "3  matrix_shape  <dtype: 'int64'>           (2,)   False       fixed     NaN\n",
       "4        tensor             uint8  (806, 806, 3)   False       fixed     NaN\n",
       "5  tensor_shape  <dtype: 'int64'>           (3,)   False       fixed     NaN"
      ]
     },
     "execution_count": 6,
     "metadata": {},
     "output_type": "execute_result"
    }
   ],
   "source": [
    "data_info"
   ]
  },
  {
   "cell_type": "markdown",
   "metadata": {},
   "source": [
    "# create parse function"
   ]
  },
  {
   "cell_type": "code",
   "execution_count": 8,
   "metadata": {},
   "outputs": [],
   "source": [
    "def parse_function(example_proto):\n",
    "    # example_proto，tf_serialized\n",
    "    dics = {'scalar': tf.FixedLenFeature(shape=(), dtype=tf.int64, default_value=None), \n",
    "             \n",
    "            # when parse the example, shape below can be used as reshape, for example reshape (3,) to (1,3)\n",
    "            'vector': tf.FixedLenFeature(shape=(1,3), dtype=tf.float32), \n",
    "            \n",
    "            # we can use VarLenFeature, but it returns SparseTensor\n",
    "            'matrix': tf.VarLenFeature(dtype=dtype('float32')), \n",
    "            'matrix_shape': tf.FixedLenFeature(shape=(2,), dtype=tf.int64), \n",
    "            \n",
    "            # tensor在写入时 使用了toString()，shape是()\n",
    "            # we first set the type as tf.string, then change to its original type: tf.uint8\n",
    "            'tensor': tf.FixedLenFeature(shape=(), dtype=tf.string), \n",
    "            'tensor_shape': tf.FixedLenFeature(shape=(3,), dtype=tf.int64)}\n",
    "    # parse all features in a single example according to the dics\n",
    "    parsed_example = tf.parse_single_example(example_proto, dics)\n",
    "    # decode string\n",
    "    parsed_example['tensor'] = tf.decode_raw(parsed_example['tensor'], tf.uint8)\n",
    "    # sparse_tensor_to_dense\n",
    "    parsed_example['matrix'] = tf.sparse_tensor_to_dense(parsed_example['matrix'])\n",
    "    \n",
    "    # reshape matrix\n",
    "    parsed_example['matrix'] = tf.reshape(parsed_example['matrix'], parsed_example['matrix_shape'])\n",
    "    \n",
    "    # reshape tensor\n",
    "    parsed_example['tensor'] = tf.reshape(parsed_example['tensor'], parsed_example['tensor_shape'])\n",
    "    return parsed_example"
   ]
  },
  {
   "cell_type": "markdown",
   "metadata": {},
   "source": [
    "# iterate example from dataset"
   ]
  },
  {
   "cell_type": "code",
   "execution_count": 67,
   "metadata": {},
   "outputs": [
    {
     "name": "stdout",
     "output_type": "stream",
     "text": [
      "==============example 1 ==============\n",
      "scalar: value: 1 | shape: () | type: int64\n",
      "vector shape: (1, 3) | type: float32\n",
      "matrix shape: (2, 3) | type: float32\n",
      "tensor shape: (806, 806, 3) | type: uint8\n",
      "==============example 2 ==============\n",
      "scalar: value: 2 | shape: () | type: int64\n",
      "vector shape: (1, 3) | type: float32\n",
      "matrix shape: (2, 3) | type: float32\n",
      "tensor shape: (806, 806, 3) | type: uint8\n",
      "==============example 3 ==============\n",
      "scalar: value: 3 | shape: () | type: int64\n",
      "vector shape: (1, 3) | type: float32\n",
      "matrix shape: (2, 3) | type: float32\n",
      "tensor shape: (806, 806, 3) | type: uint8\n",
      "==============example 4 ==============\n",
      "scalar: value: 1 | shape: () | type: int64\n",
      "vector shape: (1, 3) | type: float32\n",
      "matrix shape: (2, 3) | type: float32\n",
      "tensor shape: (806, 806, 3) | type: uint8\n",
      "==============example 5 ==============\n",
      "scalar: value: 2 | shape: () | type: int64\n",
      "vector shape: (1, 3) | type: float32\n",
      "matrix shape: (2, 3) | type: float32\n",
      "tensor shape: (806, 806, 3) | type: uint8\n",
      "==============example 6 ==============\n",
      "scalar: value: 3 | shape: () | type: int64\n",
      "vector shape: (1, 3) | type: float32\n",
      "matrix shape: (2, 3) | type: float32\n",
      "tensor shape: (806, 806, 3) | type: uint8\n",
      "End of dataset\n"
     ]
    },
    {
     "data": {
      "text/plain": [
       "<matplotlib.image.AxesImage at 0x7f10181836a0>"
      ]
     },
     "execution_count": 67,
     "metadata": {},
     "output_type": "execute_result"
    },
    {
     "data": {
      "image/png": "[encoded data removed]",
      "text/plain": [
       "<matplotlib.figure.Figure at 0x7f1018304588>"
      ]
     },
     "metadata": {},
     "output_type": "display_data"
    }
   ],
   "source": [
    "new_dataset = dataset.map(parse_function)\n",
    "iterator = new_dataset.make_one_shot_iterator()\n",
    "next_element = iterator.get_next()\n",
    "\n",
    "sess = tf.InteractiveSession()\n",
    "\n",
    "i = 1\n",
    "while True:\n",
    "    # \n",
    "    try:\n",
    "        scalar,vector,matrix,tensor = sess.run([next_element['scalar'],\n",
    "                                                next_element['vector'],\n",
    "                                                next_element['matrix'],\n",
    "                                                next_element['tensor']])\n",
    "    except tf.errors.OutOfRangeError:\n",
    "        print(\"End of dataset\")\n",
    "        break\n",
    "    else:\n",
    "        print('==============example %s ==============' %i)\n",
    "        print('scalar: value: %s | shape: %s | type: %s' %(scalar, scalar.shape, scalar.dtype))\n",
    "        print('vector shape: %s | type: %s' %(vector.shape, vector.dtype))\n",
    "        print('matrix shape: %s | type: %s' %(matrix.shape, matrix.dtype))\n",
    "        print('tensor shape: %s | type: %s' %(tensor.shape, tensor.dtype))\n",
    "    i+=1\n",
    "plt.imshow(tensor)"
   ]
  },
  {
   "cell_type": "markdown",
   "metadata": {},
   "source": [
    "# shuffle"
   ]
  },
  {
   "cell_type": "code",
   "execution_count": 66,
   "metadata": {},
   "outputs": [
    {
     "name": "stdout",
     "output_type": "stream",
     "text": [
      "example 1 | scalar: value: 1\n",
      "example 2 | scalar: value: 3\n",
      "example 3 | scalar: value: 2\n",
      "example 4 | scalar: value: 3\n",
      "example 5 | scalar: value: 2\n",
      "example 6 | scalar: value: 1\n",
      "End of dataset\n"
     ]
    }
   ],
   "source": [
    "shuffle_dataset = new_dataset.shuffle(buffer_size=10000)\n",
    "iterator = shuffle_dataset.make_one_shot_iterator()\n",
    "next_element = iterator.get_next()\n",
    "\n",
    "i = 1\n",
    "while True:\n",
    "    try:\n",
    "        scalar = sess.run(next_element['scalar'])\n",
    "    except tf.errors.OutOfRangeError:\n",
    "        print(\"End of dataset\")\n",
    "        break\n",
    "    else:\n",
    "        print('example %s | scalar: value: %s' %(i,scalar))\n",
    "    i+=1"
   ]
  },
  {
   "cell_type": "markdown",
   "metadata": {},
   "source": [
    "# Batch"
   ]
  },
  {
   "cell_type": "code",
   "execution_count": 68,
   "metadata": {},
   "outputs": [
    {
     "name": "stdout",
     "output_type": "stream",
     "text": [
      "example 1 | scalar: value: [1 3 1 2]\n",
      "example 2 | scalar: value: [2 3]\n",
      "End of dataset\n"
     ]
    }
   ],
   "source": [
    "batch_dataset = shuffle_dataset.batch(4)\n",
    "iterator = batch_dataset.make_one_shot_iterator()\n",
    "next_element = iterator.get_next()\n",
    "\n",
    "i = 1\n",
    "while True:\n",
    "    try:\n",
    "        scalar = sess.run(next_element['scalar'])\n",
    "    except tf.errors.OutOfRangeError:\n",
    "        print(\"End of dataset\")\n",
    "        break\n",
    "    else:\n",
    "        print('example %s | scalar: value: %s' %(i,scalar))\n",
    "    i+=1"
   ]
  },
  {
   "cell_type": "markdown",
   "metadata": {},
   "source": [
    "# batch and padding"
   ]
  },
  {
   "cell_type": "code",
   "execution_count": 69,
   "metadata": {},
   "outputs": [
    {
     "name": "stdout",
     "output_type": "stream",
     "text": [
      "==============example 1 ==============\n",
      "scalar: value: [1 2 3 1] | shape: (4,) | type: int64\n",
      "padded vector value\n",
      "[[[ 0.1  0.1  0.1  0.   0. ]]\n",
      "\n",
      " [[ 0.2  0.2  0.2  0.   0. ]]\n",
      "\n",
      " [[ 0.3  0.3  0.3  0.   0. ]]\n",
      "\n",
      " [[ 0.1  0.1  0.1  0.   0. ]]]:\n",
      "vector shape: (4, 1, 5) | type: float32\n",
      "matrix shape: (4, 2, 3) | type: float32\n",
      "tensor shape: (4, 806, 806, 3) | type: uint8\n",
      "==============example 2 ==============\n",
      "scalar: value: [2 3] | shape: (2,) | type: int64\n",
      "padded vector value\n",
      "[[[ 0.2  0.2  0.2  0.   0. ]]\n",
      "\n",
      " [[ 0.3  0.3  0.3  0.   0. ]]]:\n",
      "vector shape: (2, 1, 5) | type: float32\n",
      "matrix shape: (2, 2, 3) | type: float32\n",
      "tensor shape: (2, 806, 806, 3) | type: uint8\n",
      "End of dataset\n"
     ]
    }
   ],
   "source": [
    "batch_padding_dataset = new_dataset.padded_batch(4, \n",
    "                        padded_shapes={'scalar': [],\n",
    "                                       'vector': [-1,5],\n",
    "                                       'matrix': [None,None],\n",
    "                                       'matrix_shape': [None],\n",
    "                                       'tensor': [None,None,None],\n",
    "                                       'tensor_shape': [None]})\n",
    "iterator = batch_padding_dataset.make_one_shot_iterator()\n",
    "next_element = iterator.get_next()\n",
    "\n",
    "i = 1\n",
    "while True:\n",
    "    try:\n",
    "        scalar,vector,matrix,tensor = sess.run([next_element['scalar'],\n",
    "                                                next_element['vector'],\n",
    "                                                next_element['matrix'],\n",
    "                                                next_element['tensor']])\n",
    "    except tf.errors.OutOfRangeError:\n",
    "        print(\"End of dataset\")\n",
    "        break\n",
    "    else:\n",
    "        print('==============example %s ==============' %i)\n",
    "        print('scalar: value: %s | shape: %s | type: %s' %(scalar, scalar.shape, scalar.dtype))\n",
    "        print('padded vector value\\n%s:\\nvector shape: %s | type: %s' %(vector, vector.shape, vector.dtype))\n",
    "        print('matrix shape: %s | type: %s' %(matrix.shape, matrix.dtype))\n",
    "        print('tensor shape: %s | type: %s' %(tensor.shape, tensor.dtype))\n",
    "    i+=1"
   ]
  },
  {
   "cell_type": "markdown",
   "metadata": {},
   "source": [
    "# epoch"
   ]
  },
  {
   "cell_type": "code",
   "execution_count": 70,
   "metadata": {},
   "outputs": [
    {
     "name": "stdout",
     "output_type": "stream",
     "text": [
      "example 1 | scalar: value: 1\n",
      "example 2 | scalar: value: 2\n",
      "example 3 | scalar: value: 3\n",
      "example 4 | scalar: value: 1\n",
      "example 5 | scalar: value: 2\n",
      "example 6 | scalar: value: 3\n",
      "example 7 | scalar: value: 1\n",
      "example 8 | scalar: value: 2\n",
      "example 9 | scalar: value: 3\n",
      "example 10 | scalar: value: 1\n",
      "example 11 | scalar: value: 2\n",
      "example 12 | scalar: value: 3\n",
      "End of dataset\n"
     ]
    }
   ],
   "source": [
    "num_epochs = 2\n",
    "epoch_dataset = new_dataset.repeat(num_epochs)\n",
    "iterator = epoch_dataset.make_one_shot_iterator()\n",
    "next_element = iterator.get_next()\n",
    "\n",
    "i = 1\n",
    "while True:\n",
    "    try:\n",
    "        scalar = sess.run(next_element['scalar'])\n",
    "    except tf.errors.OutOfRangeError:\n",
    "        print(\"End of dataset\")\n",
    "        break\n",
    "    else:\n",
    "        print('example %s | scalar: value: %s' %(i,scalar))\n",
    "    i+=1"
   ]
  }
 ],
 "metadata": {
  "kernelspec": {
   "display_name": "Python 3",
   "language": "python",
   "name": "python3"
  },
  "language_info": {
   "codemirror_mode": {
    "name": "ipython",
    "version": 3
   },
   "file_extension": ".py",
   "mimetype": "text/x-python",
   "name": "python",
   "nbconvert_exporter": "python",
   "pygments_lexer": "ipython3",
   "version": "3.6.4"
  }
 },
 "nbformat": 4,
 "nbformat_minor": 2
}
