{
 "cells": [
  {
   "cell_type": "code",
   "execution_count": 1,
   "metadata": {},
   "outputs": [
    {
     "name": "stderr",
     "output_type": "stream",
     "text": [
      "/opt/conda/lib/python3.6/importlib/_bootstrap.py:219: RuntimeWarning: compiletime version 3.5 of module 'tensorflow.python.framework.fast_tensor_util' does not match runtime version 3.6\n",
      "  return f(*args, **kwds)\n"
     ]
    },
    {
     "name": "stdout",
     "output_type": "stream",
     "text": [
      "Populating the interactive namespace from numpy and matplotlib\n"
     ]
    }
   ],
   "source": [
    "import pandas as pd\n",
    "import numpy as np\n",
    "import tensorflow as tf\n",
    "from tfrecorder import TFrecorder\n",
    "from matplotlib import pyplot as plt\n",
    "import matplotlib.image as mpimg\n",
    "%pylab inline"
   ]
  },
  {
   "cell_type": "markdown",
   "metadata": {},
   "source": [
    "# data"
   ]
  },
  {
   "cell_type": "code",
   "execution_count": 2,
   "metadata": {},
   "outputs": [
    {
     "name": "stdout",
     "output_type": "stream",
     "text": [
      "Extracting MNIST-data/train-images-idx3-ubyte.gz\n",
      "Extracting MNIST-data/train-labels-idx1-ubyte.gz\n",
      "Extracting MNIST-data/t10k-images-idx3-ubyte.gz\n",
      "Extracting MNIST-data/t10k-labels-idx1-ubyte.gz\n"
     ]
    }
   ],
   "source": [
    "# Load training and eval data\n",
    "mnist = tf.contrib.learn.datasets.load_dataset(\"mnist\")"
   ]
  },
  {
   "cell_type": "markdown",
   "metadata": {},
   "source": [
    "# how to write"
   ]
  },
  {
   "cell_type": "code",
   "execution_count": 3,
   "metadata": {},
   "outputs": [],
   "source": [
    "# info of data\n",
    "df = pd.DataFrame({'name':['image','label'],\n",
    "                  'type':['float32','int64'],\n",
    "                  'shape':[(784,),()],\n",
    "                  'isbyte':[False,False],\n",
    "                  \"length_type\":['fixed','fixed'],\n",
    "                  \"default\":[np.NaN,np.NaN]})"
   ]
  },
  {
   "cell_type": "code",
   "execution_count": 4,
   "metadata": {},
   "outputs": [
    {
     "data": {
      "text/html": [
       "<div>\n",
       "<style scoped>\n",
       "    .dataframe tbody tr th:only-of-type {\n",
       "        vertical-align: middle;\n",
       "    }\n",
       "\n",
       "    .dataframe tbody tr th {\n",
       "        vertical-align: top;\n",
       "    }\n",
       "\n",
       "    .dataframe thead th {\n",
       "        text-align: right;\n",
       "    }\n",
       "</style>\n",
       "<table border=\"1\" class=\"dataframe\">\n",
       "  <thead>\n",
       "    <tr style=\"text-align: right;\">\n",
       "      <th></th>\n",
       "      <th>default</th>\n",
       "      <th>isbyte</th>\n",
       "      <th>length_type</th>\n",
       "      <th>name</th>\n",
       "      <th>shape</th>\n",
       "      <th>type</th>\n",
       "    </tr>\n",
       "  </thead>\n",
       "  <tbody>\n",
       "    <tr>\n",
       "      <th>0</th>\n",
       "      <td>NaN</td>\n",
       "      <td>False</td>\n",
       "      <td>fixed</td>\n",
       "      <td>image</td>\n",
       "      <td>(784,)</td>\n",
       "      <td>float32</td>\n",
       "    </tr>\n",
       "    <tr>\n",
       "      <th>1</th>\n",
       "      <td>NaN</td>\n",
       "      <td>False</td>\n",
       "      <td>fixed</td>\n",
       "      <td>label</td>\n",
       "      <td>()</td>\n",
       "      <td>int64</td>\n",
       "    </tr>\n",
       "  </tbody>\n",
       "</table>\n",
       "</div>"
      ],
      "text/plain": [
       "   default  isbyte length_type   name   shape     type\n",
       "0      NaN   False       fixed  image  (784,)  float32\n",
       "1      NaN   False       fixed  label      ()    int64"
      ]
     },
     "execution_count": 4,
     "metadata": {},
     "output_type": "execute_result"
    }
   ],
   "source": [
    "df"
   ]
  },
  {
   "cell_type": "markdown",
   "metadata": {},
   "source": [
    "# write"
   ]
  },
  {
   "cell_type": "code",
   "execution_count": 5,
   "metadata": {},
   "outputs": [],
   "source": [
    "tfr = TFrecorder()"
   ]
  },
  {
   "cell_type": "code",
   "execution_count": 6,
   "metadata": {},
   "outputs": [],
   "source": [
    "mkdir mnist_tfrecord mnist_tfrecord/train mnist_tfrecord/test"
   ]
  },
  {
   "cell_type": "code",
   "execution_count": 7,
   "metadata": {
    "scrolled": true
   },
   "outputs": [
    {
     "name": "stdout",
     "output_type": "stream",
     "text": [
      "saved mnist_tfrecord/train/train1000_2000.tfrecord\n",
      "saved mnist_tfrecord/train/train2000_3000.tfrecord\n",
      "saved mnist_tfrecord/train/train3000_4000.tfrecord\n",
      "saved mnist_tfrecord/train/train4000_5000.tfrecord\n",
      "saved mnist_tfrecord/train/train5000_6000.tfrecord\n",
      "saved mnist_tfrecord/train/train6000_7000.tfrecord\n",
      "saved mnist_tfrecord/train/train7000_8000.tfrecord\n",
      "saved mnist_tfrecord/train/train8000_9000.tfrecord\n",
      "saved mnist_tfrecord/train/train9000_10000.tfrecord\n",
      "saved mnist_tfrecord/train/train10000_11000.tfrecord\n",
      "saved mnist_tfrecord/train/train11000_12000.tfrecord\n",
      "saved mnist_tfrecord/train/train12000_13000.tfrecord\n",
      "saved mnist_tfrecord/train/train13000_14000.tfrecord\n",
      "saved mnist_tfrecord/train/train14000_15000.tfrecord\n",
      "saved mnist_tfrecord/train/train15000_16000.tfrecord\n",
      "saved mnist_tfrecord/train/train16000_17000.tfrecord\n",
      "saved mnist_tfrecord/train/train17000_18000.tfrecord\n",
      "saved mnist_tfrecord/train/train18000_19000.tfrecord\n",
      "saved mnist_tfrecord/train/train19000_20000.tfrecord\n",
      "saved mnist_tfrecord/train/train20000_21000.tfrecord\n",
      "saved mnist_tfrecord/train/train21000_22000.tfrecord\n",
      "saved mnist_tfrecord/train/train22000_23000.tfrecord\n",
      "saved mnist_tfrecord/train/train23000_24000.tfrecord\n",
      "saved mnist_tfrecord/train/train24000_25000.tfrecord\n",
      "saved mnist_tfrecord/train/train25000_26000.tfrecord\n",
      "saved mnist_tfrecord/train/train26000_27000.tfrecord\n",
      "saved mnist_tfrecord/train/train27000_28000.tfrecord\n",
      "saved mnist_tfrecord/train/train28000_29000.tfrecord\n",
      "saved mnist_tfrecord/train/train29000_30000.tfrecord\n",
      "saved mnist_tfrecord/train/train30000_31000.tfrecord\n",
      "saved mnist_tfrecord/train/train31000_32000.tfrecord\n",
      "saved mnist_tfrecord/train/train32000_33000.tfrecord\n",
      "saved mnist_tfrecord/train/train33000_34000.tfrecord\n",
      "saved mnist_tfrecord/train/train34000_35000.tfrecord\n",
      "saved mnist_tfrecord/train/train35000_36000.tfrecord\n",
      "saved mnist_tfrecord/train/train36000_37000.tfrecord\n",
      "saved mnist_tfrecord/train/train37000_38000.tfrecord\n",
      "saved mnist_tfrecord/train/train38000_39000.tfrecord\n",
      "saved mnist_tfrecord/train/train39000_40000.tfrecord\n",
      "saved mnist_tfrecord/train/train40000_41000.tfrecord\n",
      "saved mnist_tfrecord/train/train41000_42000.tfrecord\n",
      "saved mnist_tfrecord/train/train42000_43000.tfrecord\n",
      "saved mnist_tfrecord/train/train43000_44000.tfrecord\n",
      "saved mnist_tfrecord/train/train44000_45000.tfrecord\n",
      "saved mnist_tfrecord/train/train45000_46000.tfrecord\n",
      "saved mnist_tfrecord/train/train46000_47000.tfrecord\n",
      "saved mnist_tfrecord/train/train47000_48000.tfrecord\n",
      "saved mnist_tfrecord/train/train48000_49000.tfrecord\n",
      "saved mnist_tfrecord/train/train49000_50000.tfrecord\n",
      "saved mnist_tfrecord/train/train50000_51000.tfrecord\n",
      "saved mnist_tfrecord/train/train51000_52000.tfrecord\n",
      "saved mnist_tfrecord/train/train52000_53000.tfrecord\n",
      "saved mnist_tfrecord/train/train53000_54000.tfrecord\n",
      "saved mnist_tfrecord/train/train54000_55000.tfrecord\n"
     ]
    }
   ],
   "source": [
    "dataset = mnist.train\n",
    "path = 'mnist_tfrecord/train/train'\n",
    "num_examples_per_file = 1000\n",
    "num_so_far = 0\n",
    "\n",
    "writer = tf.python_io.TFRecordWriter('%s%s_%s.tfrecord' %(path, num_so_far, num_examples_per_file))\n",
    "# write mutilple examples\n",
    "for i in np.arange(dataset.num_examples):\n",
    "    features = {}\n",
    "    # write image of one example\n",
    "    tfr.feature_writer(df.iloc[0], dataset.images[i], features)\n",
    "    # write label of one example\n",
    "    tfr.feature_writer(df.iloc[1], dataset.labels[i], features)\n",
    "    \n",
    "    tf_features = tf.train.Features(feature= features)\n",
    "    tf_example = tf.train.Example(features = tf_features)\n",
    "    tf_serialized = tf_example.SerializeToString()\n",
    "    writer.write(tf_serialized)\n",
    "    if i%num_examples_per_file ==0 and i!=0:\n",
    "        writer.close()\n",
    "        num_so_far = i\n",
    "        writer = tf.python_io.TFRecordWriter('%s%s_%s.tfrecord' %(path, num_so_far, i+num_examples_per_file))\n",
    "        print('saved %s%s_%s.tfrecord' %(path, num_so_far, i+num_examples_per_file))\n",
    "writer.close()"
   ]
  },
  {
   "cell_type": "code",
   "execution_count": 8,
   "metadata": {
    "scrolled": true
   },
   "outputs": [
    {
     "name": "stdout",
     "output_type": "stream",
     "text": [
      "saved mnist_tfrecord/test/test1000_2000.tfrecord\n",
      "saved mnist_tfrecord/test/test2000_3000.tfrecord\n",
      "saved mnist_tfrecord/test/test3000_4000.tfrecord\n",
      "saved mnist_tfrecord/test/test4000_5000.tfrecord\n",
      "saved mnist_tfrecord/test/test5000_6000.tfrecord\n",
      "saved mnist_tfrecord/test/test6000_7000.tfrecord\n",
      "saved mnist_tfrecord/test/test7000_8000.tfrecord\n",
      "saved mnist_tfrecord/test/test8000_9000.tfrecord\n",
      "saved mnist_tfrecord/test/test9000_10000.tfrecord\n"
     ]
    }
   ],
   "source": [
    "dataset = mnist.test\n",
    "path = 'mnist_tfrecord/test/test'\n",
    "num_examples_per_file = 1000\n",
    "num_so_far = 0\n",
    "\n",
    "writer = tf.python_io.TFRecordWriter('%s%s_%s.tfrecord' %(path, num_so_far, num_examples_per_file))\n",
    "# write mutilple examples\n",
    "for i in np.arange(dataset.num_examples):\n",
    "    features = {}\n",
    "    # write image of one example\n",
    "    tfr.feature_writer(df.iloc[0], dataset.images[i], features)\n",
    "    # write label of one example\n",
    "    tfr.feature_writer(df.iloc[1], dataset.labels[i], features)\n",
    "    \n",
    "    tf_features = tf.train.Features(feature= features)\n",
    "    tf_example = tf.train.Example(features = tf_features)\n",
    "    tf_serialized = tf_example.SerializeToString()\n",
    "    writer.write(tf_serialized)\n",
    "    if i%num_examples_per_file ==0 and i!=0:\n",
    "        writer.close()\n",
    "        num_so_far = i\n",
    "        writer = tf.python_io.TFRecordWriter('%s%s_%s.tfrecord' %(path, num_so_far, i+num_examples_per_file))\n",
    "        print('saved %s%s_%s.tfrecord' %(path, num_so_far, i+num_examples_per_file))\n",
    "writer.close()\n",
    "data_info_path = 'mnist_tfrecord/data_info.csv'\n",
    "df.to_csv(data_info_path,index=False)"
   ]
  },
  {
   "cell_type": "markdown",
   "metadata": {},
   "source": [
    "# import function"
   ]
  },
  {
   "cell_type": "code",
   "execution_count": 9,
   "metadata": {},
   "outputs": [],
   "source": [
    "tfr = TFrecorder()\n",
    "def input_fn_maker(path, data_info_path, shuffle=False, batch_size = 1, epoch = 1, padding = None):\n",
    "    def input_fn():\n",
    "        filenames = tfr.get_filenames(path=path, shuffle=shuffle)\n",
    "        dataset=tfr.get_dataset(paths=filenames, data_info=data_info_path, shuffle = shuffle, \n",
    "                            batch_size = batch_size, epoch = epoch, padding =padding)\n",
    "        iterator = dataset.make_one_shot_iterator()\n",
    "        return iterator.get_next()\n",
    "    return input_fn"
   ]
  },
  {
   "cell_type": "code",
   "execution_count": 10,
   "metadata": {},
   "outputs": [
    {
     "name": "stdout",
     "output_type": "stream",
     "text": [
      "read dataframe from mnist_tfrecord/test/test1000_2000.tfrecord x 10\n"
     ]
    }
   ],
   "source": [
    "padding_info = ({'image':[784,],'label':[]})\n",
    "test_input_fn = input_fn_maker('mnist_tfrecord/test/',  'mnist_tfrecord/data_info.csv',\n",
    "                               padding = padding_info)\n",
    "train_input_fn = input_fn_maker('mnist_tfrecord/train/',  'mnist_tfrecord/data_info.csv', shuffle=True, batch_size = 512,\n",
    "                               padding = padding_info)\n",
    "train_eval_fn = input_fn_maker('mnist_tfrecord/train/',  'mnist_tfrecord/data_info.csv', batch_size = 512,\n",
    "                               padding = padding_info)\n",
    "test_inputs = test_input_fn()"
   ]
  },
  {
   "cell_type": "code",
   "execution_count": 11,
   "metadata": {},
   "outputs": [
    {
     "name": "stdout",
     "output_type": "stream",
     "text": [
      "(1, 784)\n"
     ]
    },
    {
     "data": {
      "text/plain": [
       "<matplotlib.image.AxesImage at 0x7f501fb12400>"
      ]
     },
     "execution_count": 11,
     "metadata": {},
     "output_type": "execute_result"
    },
    {
     "data": {
      "image/png": "[encoded data removed]",
      "text/plain": [
       "<matplotlib.figure.Figure at 0x7f5022a369b0>"
      ]
     },
     "metadata": {},
     "output_type": "display_data"
    }
   ],
   "source": [
    "sess =tf.InteractiveSession()\n",
    "print(test_inputs['image'].eval().shape)\n",
    "plt.imshow(test_inputs['image'].eval().reshape((28,28)),cmap=plt.cm.gray)"
   ]
  }
 ],
 "metadata": {
  "kernelspec": {
   "display_name": "Python 3",
   "language": "python",
   "name": "python3"
  },
  "language_info": {
   "codemirror_mode": {
    "name": "ipython",
    "version": 3
   },
   "file_extension": ".py",
   "mimetype": "text/x-python",
   "name": "python",
   "nbconvert_exporter": "python",
   "pygments_lexer": "ipython3",
   "version": "3.6.4"
  }
 },
 "nbformat": 4,
 "nbformat_minor": 2
}
