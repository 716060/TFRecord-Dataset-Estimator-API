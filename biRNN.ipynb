{
 "cells": [
  {
   "cell_type": "code",
   "execution_count": 1,
   "metadata": {},
   "outputs": [
    {
     "name": "stderr",
     "output_type": "stream",
     "text": [
      "/opt/conda/lib/python3.6/site-packages/h5py/__init__.py:36: FutureWarning: Conversion of the second argument of issubdtype from `float` to `np.floating` is deprecated. In future, it will be treated as `np.float64 == np.dtype(float).type`.\n",
      "  from ._conv import register_converters as _register_converters\n"
     ]
    },
    {
     "name": "stdout",
     "output_type": "stream",
     "text": [
      "Populating the interactive namespace from numpy and matplotlib\n"
     ]
    }
   ],
   "source": [
    "import pandas as pd\n",
    "import numpy as np\n",
    "import tensorflow as tf\n",
    "from tfrecorder import TFrecorder\n",
    "from matplotlib import pyplot as plt\n",
    "import matplotlib.image as mpimg\n",
    "%pylab inline"
   ]
  },
  {
   "cell_type": "code",
   "execution_count": 2,
   "metadata": {},
   "outputs": [],
   "source": [
    "tfr = TFrecorder()\n",
    "def input_fn_maker(path, data_info_path, shuffle=False, batch_size = 1, epoch = 1, padding = None):\n",
    "    def input_fn():\n",
    "        filenames = tfr.get_filenames(path=path, shuffle=shuffle)\n",
    "        dataset=tfr.get_dataset(paths=filenames, data_info=data_info_path, shuffle = shuffle, \n",
    "                            batch_size = batch_size, epoch = epoch, padding =padding)\n",
    "        iterator = dataset.make_one_shot_iterator()\n",
    "        return iterator.get_next()\n",
    "    return input_fn\n",
    "\n",
    "padding_info = ({'image':[784,],'label':[]})\n",
    "test_input_fn = input_fn_maker('mnist_tfrecord/test/',  'mnist_tfrecord/data_info.csv',batch_size = 512,\n",
    "                               padding = padding_info)\n",
    "train_input_fn = input_fn_maker('mnist_tfrecord/train/',  'mnist_tfrecord/data_info.csv', shuffle=True, batch_size = 128,\n",
    "                               padding = padding_info)\n",
    "train_eval_fn = input_fn_maker('mnist_tfrecord/train/',  'mnist_tfrecord/data_info.csv', batch_size = 512,\n",
    "                               padding = padding_info)"
   ]
  },
  {
   "cell_type": "code",
   "execution_count": 3,
   "metadata": {},
   "outputs": [],
   "source": [
    "def model_fn(features, mode):\n",
    "    features['image'] = tf.reshape(features['image'],[-1,28,28,1])\n",
    "    # shape: [None,28,28,1]\n",
    "    # create RNN cells:\n",
    "    rnn_fcells = [tf.nn.rnn_cell.GRUCell(dim,kernel_initializer=tf.orthogonal_initializer) for dim in [128,256]]\n",
    "    rnn_bcells = [tf.nn.rnn_cell.GRUCell(dim,kernel_initializer=tf.orthogonal_initializer) for dim in [128,256]]\n",
    "    # stack cells for multi-layers RNN\n",
    "    multi_rnn_fcell = tf.nn.rnn_cell.MultiRNNCell(rnn_fcells)\n",
    "    multi_rnn_bcell = tf.nn.rnn_cell.MultiRNNCell(rnn_bcells)\n",
    "    # create RNN layers\n",
    "    ((outputs_fw, outputs_bw),(last_state_fw, last_state_bw)) = tf.nn.bidirectional_dynamic_rnn(\n",
    "                                   cell_fw=multi_rnn_fcell,\n",
    "                                   cell_bw=multi_rnn_bcell,\n",
    "                                   inputs=tf.reshape(features['image'],[-1,28,28]),\n",
    "                                   dtype=tf.float32)\n",
    "    # shape: outputs: [None,28,256]\n",
    "    # shape: last_state: [None,256]\n",
    "    dense1 = tf.layers.dense(inputs=last_state_fw[1]+last_state_bw[1], units=1024, activation=tf.nn.relu, name= 'dense1')\n",
    "    # shape: [None,1024]\n",
    "    # dropout = tf.layers.dropout(inputs=dense1, rate=0.4, training=mode == tf.estimator.ModeKeys.TRAIN)\n",
    "    logits = tf.layers.dense(inputs=dense1, units=10, name= 'output')\n",
    "    # shape: [None,10]\n",
    "    predictions = {\n",
    "        \"classes\": tf.argmax(input=logits, axis=1),\n",
    "        \"labels\": features['label'],\n",
    "        \"probabilities\": tf.nn.softmax(logits, name=\"softmax_tensor\")\n",
    "        }\n",
    "    if mode == tf.estimator.ModeKeys.PREDICT:\n",
    "        return tf.estimator.EstimatorSpec(mode=mode, predictions=predictions)\n",
    "    loss = tf.losses.sparse_softmax_cross_entropy(labels=features['label'], logits=logits)\n",
    "    \n",
    "    if mode == tf.estimator.ModeKeys.TRAIN:\n",
    "        optimizer = tf.train.AdamOptimizer(learning_rate=1e-3)\n",
    "        train_op = optimizer.minimize(\n",
    "        loss=loss,\n",
    "        global_step=tf.train.get_global_step())\n",
    "        return tf.estimator.EstimatorSpec(mode=mode, loss=loss, train_op=train_op)\n",
    "    eval_metric_ops = {\"accuracy\": tf.metrics.accuracy(labels=features['label'], predictions=predictions[\"classes\"])}\n",
    "    return tf.estimator.EstimatorSpec(mode=mode, loss=loss, eval_metric_ops=eval_metric_ops)"
   ]
  },
  {
   "cell_type": "code",
   "execution_count": 5,
   "metadata": {},
   "outputs": [
    {
     "name": "stdout",
     "output_type": "stream",
     "text": [
      "INFO:tensorflow:Using default config.\n",
      "INFO:tensorflow:Using config: {'_model_dir': 'mnist_model_birnn', '_tf_random_seed': None, '_save_summary_steps': 100, '_save_checkpoints_steps': None, '_save_checkpoints_secs': 600, '_session_config': None, '_keep_checkpoint_max': 5, '_keep_checkpoint_every_n_hours': 10000, '_log_step_count_steps': 100, '_service': None, '_cluster_spec': <tensorflow.python.training.server_lib.ClusterSpec object at 0x7fd7f745fb00>, '_task_type': 'worker', '_task_id': 0, '_master': '', '_is_chief': True, '_num_ps_replicas': 0, '_num_worker_replicas': 1}\n"
     ]
    }
   ],
   "source": [
    "mnist_classifier = tf.estimator.Estimator(\n",
    "    model_fn=model_fn, model_dir=\"mnist_model_birnn\")"
   ]
  },
  {
   "cell_type": "code",
   "execution_count": 6,
   "metadata": {},
   "outputs": [
    {
     "name": "stdout",
     "output_type": "stream",
     "text": [
      "read dataframe from mnist_tfrecord/data_info.csv\n",
      "   default  isbyte length_type   name  shape     type\n",
      "0      NaN   False       fixed  image  [784]  float32\n",
      "1      NaN   False       fixed  label     []    int64\n",
      "INFO:tensorflow:Create CheckpointSaverHook.\n",
      "INFO:tensorflow:Saving checkpoints for 1 into mnist_model_birnn/model.ckpt.\n",
      "INFO:tensorflow:loss = 2.29955, step = 1\n",
      "INFO:tensorflow:global_step/sec: 8.59067\n",
      "INFO:tensorflow:loss = 0.2679639, step = 101 (11.643 sec)\n",
      "INFO:tensorflow:global_step/sec: 8.73142\n",
      "INFO:tensorflow:loss = 0.25107095, step = 201 (11.454 sec)\n",
      "INFO:tensorflow:global_step/sec: 8.78781\n",
      "INFO:tensorflow:loss = 0.25409427, step = 301 (11.378 sec)\n",
      "INFO:tensorflow:global_step/sec: 9.75803\n",
      "INFO:tensorflow:loss = 0.20492652, step = 401 (10.249 sec)\n",
      "INFO:tensorflow:Saving checkpoints for 430 into mnist_model_birnn/model.ckpt.\n",
      "INFO:tensorflow:Loss for final step: 0.19697747.\n"
     ]
    },
    {
     "data": {
      "text/plain": [
       "<tensorflow.python.estimator.estimator.Estimator at 0x7fd7f745f470>"
      ]
     },
     "execution_count": 6,
     "metadata": {},
     "output_type": "execute_result"
    }
   ],
   "source": [
    "mnist_classifier.train(\n",
    "    input_fn=train_input_fn)"
   ]
  },
  {
   "cell_type": "code",
   "execution_count": 7,
   "metadata": {},
   "outputs": [
    {
     "name": "stdout",
     "output_type": "stream",
     "text": [
      "read dataframe from mnist_tfrecord/data_info.csv\n",
      "   default  isbyte length_type   name  shape     type\n",
      "0      NaN   False       fixed  image  [784]  float32\n",
      "1      NaN   False       fixed  label     []    int64\n",
      "INFO:tensorflow:Starting evaluation at 2018-02-08-10:41:04\n",
      "INFO:tensorflow:Restoring parameters from mnist_model_birnn/model.ckpt-430\n",
      "INFO:tensorflow:Finished evaluation at 2018-02-08-10:41:14\n",
      "INFO:tensorflow:Saving dict for global step 430: accuracy = 0.9667818, global_step = 430, loss = 0.102204755\n",
      "train set\n",
      "{'accuracy': 0.9667818, 'loss': 0.102204755, 'global_step': 430}\n"
     ]
    }
   ],
   "source": [
    "eval_results = mnist_classifier.evaluate(input_fn=train_eval_fn)\n",
    "print('train set')\n",
    "print(eval_results)"
   ]
  },
  {
   "cell_type": "code",
   "execution_count": 8,
   "metadata": {},
   "outputs": [
    {
     "name": "stdout",
     "output_type": "stream",
     "text": [
      "read dataframe from mnist_tfrecord/data_info.csv\n",
      "   default  isbyte length_type   name  shape     type\n",
      "0      NaN   False       fixed  image  [784]  float32\n",
      "1      NaN   False       fixed  label     []    int64\n",
      "INFO:tensorflow:Starting evaluation at 2018-02-08-10:41:18\n",
      "INFO:tensorflow:Restoring parameters from mnist_model_birnn/model.ckpt-430\n",
      "INFO:tensorflow:Finished evaluation at 2018-02-08-10:41:20\n",
      "INFO:tensorflow:Saving dict for global step 430: accuracy = 0.9676, global_step = 430, loss = 0.10663153\n",
      "test set\n",
      "{'accuracy': 0.9676, 'loss': 0.10663153, 'global_step': 430}\n"
     ]
    }
   ],
   "source": [
    "eval_results = mnist_classifier.evaluate(input_fn=test_input_fn)\n",
    "print('test set')\n",
    "print(eval_results)"
   ]
  },
 ],
 "metadata": {
  "kernelspec": {
   "display_name": "Python 3",
   "language": "python",
   "name": "python3"
  },
  "language_info": {
   "codemirror_mode": {
    "name": "ipython",
    "version": 3
   },
   "file_extension": ".py",
   "mimetype": "text/x-python",
   "name": "python",
   "nbconvert_exporter": "python",
   "pygments_lexer": "ipython3",
   "version": "3.6.4"
  }
 },
 "nbformat": 4,
 "nbformat_minor": 2
}
